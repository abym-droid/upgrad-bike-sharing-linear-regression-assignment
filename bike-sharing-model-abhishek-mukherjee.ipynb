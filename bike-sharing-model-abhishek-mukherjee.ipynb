{
 "cells": [
  {
   "cell_type": "markdown",
   "metadata": {},
   "source": [
    "# Bike Sharing Demand - Linear Regression Assignment\n",
    "\n",
    "### By Abhishek Mukherjee"
   ]
  },
  {
   "cell_type": "markdown",
   "metadata": {},
   "source": [
    "## Problem Statement\n",
    "\n",
    "A US bike-sharing provider BoomBikes has recently suffered considerable dips in their revenues due to the ongoing Corona pandemic. BoomBikes aspires to understand the demand for shared bikes among the people after this ongoing quarantine situation ends across the nation due to Covid-19. The company wants to know:\n",
    "\n",
    "- Which variables are significant in predicting the demand for shared bikes.\n",
    "- How well those variables describe the bike demands\n",
    "\n",
    "I'm required to model the demand for shared bikes with the available independent variables as part of this assignment. In real scenario it can be used by the company to understand how exactly the demands vary with different features. They can accordingly manipulate the business strategy to meet the demand levels and meet the customer's expectations. Further, the model will be a good way for management to understand the demand dynamics of a new market"
   ]
  },
  {
   "cell_type": "markdown",
   "metadata": {},
   "source": [
    "## Solution Approach\n",
    "\n",
    "I will be performing the following steps to find the significant predictors against the demand for shared bikes and how well those variables describe the bike demand:\n",
    "\n",
    "1. Importing necessary libraries for data visualization, EDA, model building and evaluation\n",
    "2. Loading required Dataset\n",
    "3. Understanding Problem Statement (in terms of dependent and independent variables)\n",
    "4. Data Understanding\n",
    "5. Missing and Duplicate Values Check\n",
    "6. EDA\n",
    "7. Preprocessing - Dummy Creation\n",
    "8. Train-Test Split\n",
    "9. Scaling\n",
    "10. Feature Selection - RFE\n",
    "11. Manual Feature Selection\n",
    "12. Residual Analysis of train data\n",
    "13. Making predictions using Final Model\n",
    "14. Model Evaluation\n",
    "15. Conclusion"
   ]
  },
  {
   "cell_type": "markdown",
   "metadata": {},
   "source": [
    "## 1. Importing Necessary Libraries"
   ]
  },
  {
   "cell_type": "code",
   "execution_count": 1,
   "metadata": {},
   "outputs": [],
   "source": [
    "# For data analysis and numerical functions\n",
    "import pandas as pd\n",
    "import numpy as np\n",
    "\n",
    "# For Vizualization\n",
    "import seaborn as sns\n",
    "import matplotlib.pyplot as plt\n",
    "\n",
    "# import warnings\n",
    "import warnings\n",
    "warnings.filterwarnings(\"ignore\")"
   ]
  },
  {
   "cell_type": "markdown",
   "metadata": {},
   "source": [
    "## 2. Load Dataset"
   ]
  },
  {
   "cell_type": "code",
   "execution_count": 2,
   "metadata": {},
   "outputs": [
    {
     "data": {
      "text/html": [
       "<div>\n",
       "<style scoped>\n",
       "    .dataframe tbody tr th:only-of-type {\n",
       "        vertical-align: middle;\n",
       "    }\n",
       "\n",
       "    .dataframe tbody tr th {\n",
       "        vertical-align: top;\n",
       "    }\n",
       "\n",
       "    .dataframe thead th {\n",
       "        text-align: right;\n",
       "    }\n",
       "</style>\n",
       "<table border=\"1\" class=\"dataframe\">\n",
       "  <thead>\n",
       "    <tr style=\"text-align: right;\">\n",
       "      <th></th>\n",
       "      <th>instant</th>\n",
       "      <th>dteday</th>\n",
       "      <th>season</th>\n",
       "      <th>yr</th>\n",
       "      <th>mnth</th>\n",
       "      <th>holiday</th>\n",
       "      <th>weekday</th>\n",
       "      <th>workingday</th>\n",
       "      <th>weathersit</th>\n",
       "      <th>temp</th>\n",
       "      <th>atemp</th>\n",
       "      <th>hum</th>\n",
       "      <th>windspeed</th>\n",
       "      <th>casual</th>\n",
       "      <th>registered</th>\n",
       "      <th>cnt</th>\n",
       "    </tr>\n",
       "  </thead>\n",
       "  <tbody>\n",
       "    <tr>\n",
       "      <th>0</th>\n",
       "      <td>1</td>\n",
       "      <td>01-01-2018</td>\n",
       "      <td>1</td>\n",
       "      <td>0</td>\n",
       "      <td>1</td>\n",
       "      <td>0</td>\n",
       "      <td>6</td>\n",
       "      <td>0</td>\n",
       "      <td>2</td>\n",
       "      <td>14.110847</td>\n",
       "      <td>18.18125</td>\n",
       "      <td>80.5833</td>\n",
       "      <td>10.749882</td>\n",
       "      <td>331</td>\n",
       "      <td>654</td>\n",
       "      <td>985</td>\n",
       "    </tr>\n",
       "    <tr>\n",
       "      <th>1</th>\n",
       "      <td>2</td>\n",
       "      <td>02-01-2018</td>\n",
       "      <td>1</td>\n",
       "      <td>0</td>\n",
       "      <td>1</td>\n",
       "      <td>0</td>\n",
       "      <td>0</td>\n",
       "      <td>0</td>\n",
       "      <td>2</td>\n",
       "      <td>14.902598</td>\n",
       "      <td>17.68695</td>\n",
       "      <td>69.6087</td>\n",
       "      <td>16.652113</td>\n",
       "      <td>131</td>\n",
       "      <td>670</td>\n",
       "      <td>801</td>\n",
       "    </tr>\n",
       "    <tr>\n",
       "      <th>2</th>\n",
       "      <td>3</td>\n",
       "      <td>03-01-2018</td>\n",
       "      <td>1</td>\n",
       "      <td>0</td>\n",
       "      <td>1</td>\n",
       "      <td>0</td>\n",
       "      <td>1</td>\n",
       "      <td>1</td>\n",
       "      <td>1</td>\n",
       "      <td>8.050924</td>\n",
       "      <td>9.47025</td>\n",
       "      <td>43.7273</td>\n",
       "      <td>16.636703</td>\n",
       "      <td>120</td>\n",
       "      <td>1229</td>\n",
       "      <td>1349</td>\n",
       "    </tr>\n",
       "    <tr>\n",
       "      <th>3</th>\n",
       "      <td>4</td>\n",
       "      <td>04-01-2018</td>\n",
       "      <td>1</td>\n",
       "      <td>0</td>\n",
       "      <td>1</td>\n",
       "      <td>0</td>\n",
       "      <td>2</td>\n",
       "      <td>1</td>\n",
       "      <td>1</td>\n",
       "      <td>8.200000</td>\n",
       "      <td>10.60610</td>\n",
       "      <td>59.0435</td>\n",
       "      <td>10.739832</td>\n",
       "      <td>108</td>\n",
       "      <td>1454</td>\n",
       "      <td>1562</td>\n",
       "    </tr>\n",
       "    <tr>\n",
       "      <th>4</th>\n",
       "      <td>5</td>\n",
       "      <td>05-01-2018</td>\n",
       "      <td>1</td>\n",
       "      <td>0</td>\n",
       "      <td>1</td>\n",
       "      <td>0</td>\n",
       "      <td>3</td>\n",
       "      <td>1</td>\n",
       "      <td>1</td>\n",
       "      <td>9.305237</td>\n",
       "      <td>11.46350</td>\n",
       "      <td>43.6957</td>\n",
       "      <td>12.522300</td>\n",
       "      <td>82</td>\n",
       "      <td>1518</td>\n",
       "      <td>1600</td>\n",
       "    </tr>\n",
       "  </tbody>\n",
       "</table>\n",
       "</div>"
      ],
      "text/plain": [
       "   instant      dteday  season  yr  mnth  holiday  weekday  workingday  \\\n",
       "0        1  01-01-2018       1   0     1        0        6           0   \n",
       "1        2  02-01-2018       1   0     1        0        0           0   \n",
       "2        3  03-01-2018       1   0     1        0        1           1   \n",
       "3        4  04-01-2018       1   0     1        0        2           1   \n",
       "4        5  05-01-2018       1   0     1        0        3           1   \n",
       "\n",
       "   weathersit       temp     atemp      hum  windspeed  casual  registered  \\\n",
       "0           2  14.110847  18.18125  80.5833  10.749882     331         654   \n",
       "1           2  14.902598  17.68695  69.6087  16.652113     131         670   \n",
       "2           1   8.050924   9.47025  43.7273  16.636703     120        1229   \n",
       "3           1   8.200000  10.60610  59.0435  10.739832     108        1454   \n",
       "4           1   9.305237  11.46350  43.6957  12.522300      82        1518   \n",
       "\n",
       "    cnt  \n",
       "0   985  \n",
       "1   801  \n",
       "2  1349  \n",
       "3  1562  \n",
       "4  1600  "
      ]
     },
     "execution_count": 2,
     "metadata": {},
     "output_type": "execute_result"
    }
   ],
   "source": [
    "bike_df = pd.read_csv('day.csv')\n",
    "bike_df.head()\n"
   ]
  },
  {
   "cell_type": "code",
   "execution_count": 3,
   "metadata": {},
   "outputs": [
    {
     "data": {
      "text/html": [
       "<div>\n",
       "<style scoped>\n",
       "    .dataframe tbody tr th:only-of-type {\n",
       "        vertical-align: middle;\n",
       "    }\n",
       "\n",
       "    .dataframe tbody tr th {\n",
       "        vertical-align: top;\n",
       "    }\n",
       "\n",
       "    .dataframe thead th {\n",
       "        text-align: right;\n",
       "    }\n",
       "</style>\n",
       "<table border=\"1\" class=\"dataframe\">\n",
       "  <thead>\n",
       "    <tr style=\"text-align: right;\">\n",
       "      <th></th>\n",
       "      <th>instant</th>\n",
       "      <th>season</th>\n",
       "      <th>yr</th>\n",
       "      <th>mnth</th>\n",
       "      <th>holiday</th>\n",
       "      <th>weekday</th>\n",
       "      <th>workingday</th>\n",
       "      <th>weathersit</th>\n",
       "      <th>temp</th>\n",
       "      <th>atemp</th>\n",
       "      <th>hum</th>\n",
       "      <th>windspeed</th>\n",
       "      <th>casual</th>\n",
       "      <th>registered</th>\n",
       "      <th>cnt</th>\n",
       "    </tr>\n",
       "  </thead>\n",
       "  <tbody>\n",
       "    <tr>\n",
       "      <th>count</th>\n",
       "      <td>730.000000</td>\n",
       "      <td>730.000000</td>\n",
       "      <td>730.000000</td>\n",
       "      <td>730.000000</td>\n",
       "      <td>730.000000</td>\n",
       "      <td>730.000000</td>\n",
       "      <td>730.000000</td>\n",
       "      <td>730.000000</td>\n",
       "      <td>730.000000</td>\n",
       "      <td>730.000000</td>\n",
       "      <td>730.000000</td>\n",
       "      <td>730.000000</td>\n",
       "      <td>730.000000</td>\n",
       "      <td>730.000000</td>\n",
       "      <td>730.000000</td>\n",
       "    </tr>\n",
       "    <tr>\n",
       "      <th>mean</th>\n",
       "      <td>365.500000</td>\n",
       "      <td>2.498630</td>\n",
       "      <td>0.500000</td>\n",
       "      <td>6.526027</td>\n",
       "      <td>0.028767</td>\n",
       "      <td>2.997260</td>\n",
       "      <td>0.683562</td>\n",
       "      <td>1.394521</td>\n",
       "      <td>20.319259</td>\n",
       "      <td>23.726322</td>\n",
       "      <td>62.765175</td>\n",
       "      <td>12.763620</td>\n",
       "      <td>849.249315</td>\n",
       "      <td>3658.757534</td>\n",
       "      <td>4508.006849</td>\n",
       "    </tr>\n",
       "    <tr>\n",
       "      <th>std</th>\n",
       "      <td>210.877136</td>\n",
       "      <td>1.110184</td>\n",
       "      <td>0.500343</td>\n",
       "      <td>3.450215</td>\n",
       "      <td>0.167266</td>\n",
       "      <td>2.006161</td>\n",
       "      <td>0.465405</td>\n",
       "      <td>0.544807</td>\n",
       "      <td>7.506729</td>\n",
       "      <td>8.150308</td>\n",
       "      <td>14.237589</td>\n",
       "      <td>5.195841</td>\n",
       "      <td>686.479875</td>\n",
       "      <td>1559.758728</td>\n",
       "      <td>1936.011647</td>\n",
       "    </tr>\n",
       "    <tr>\n",
       "      <th>min</th>\n",
       "      <td>1.000000</td>\n",
       "      <td>1.000000</td>\n",
       "      <td>0.000000</td>\n",
       "      <td>1.000000</td>\n",
       "      <td>0.000000</td>\n",
       "      <td>0.000000</td>\n",
       "      <td>0.000000</td>\n",
       "      <td>1.000000</td>\n",
       "      <td>2.424346</td>\n",
       "      <td>3.953480</td>\n",
       "      <td>0.000000</td>\n",
       "      <td>1.500244</td>\n",
       "      <td>2.000000</td>\n",
       "      <td>20.000000</td>\n",
       "      <td>22.000000</td>\n",
       "    </tr>\n",
       "    <tr>\n",
       "      <th>25%</th>\n",
       "      <td>183.250000</td>\n",
       "      <td>2.000000</td>\n",
       "      <td>0.000000</td>\n",
       "      <td>4.000000</td>\n",
       "      <td>0.000000</td>\n",
       "      <td>1.000000</td>\n",
       "      <td>0.000000</td>\n",
       "      <td>1.000000</td>\n",
       "      <td>13.811885</td>\n",
       "      <td>16.889713</td>\n",
       "      <td>52.000000</td>\n",
       "      <td>9.041650</td>\n",
       "      <td>316.250000</td>\n",
       "      <td>2502.250000</td>\n",
       "      <td>3169.750000</td>\n",
       "    </tr>\n",
       "    <tr>\n",
       "      <th>50%</th>\n",
       "      <td>365.500000</td>\n",
       "      <td>3.000000</td>\n",
       "      <td>0.500000</td>\n",
       "      <td>7.000000</td>\n",
       "      <td>0.000000</td>\n",
       "      <td>3.000000</td>\n",
       "      <td>1.000000</td>\n",
       "      <td>1.000000</td>\n",
       "      <td>20.465826</td>\n",
       "      <td>24.368225</td>\n",
       "      <td>62.625000</td>\n",
       "      <td>12.125325</td>\n",
       "      <td>717.000000</td>\n",
       "      <td>3664.500000</td>\n",
       "      <td>4548.500000</td>\n",
       "    </tr>\n",
       "    <tr>\n",
       "      <th>75%</th>\n",
       "      <td>547.750000</td>\n",
       "      <td>3.000000</td>\n",
       "      <td>1.000000</td>\n",
       "      <td>10.000000</td>\n",
       "      <td>0.000000</td>\n",
       "      <td>5.000000</td>\n",
       "      <td>1.000000</td>\n",
       "      <td>2.000000</td>\n",
       "      <td>26.880615</td>\n",
       "      <td>30.445775</td>\n",
       "      <td>72.989575</td>\n",
       "      <td>15.625589</td>\n",
       "      <td>1096.500000</td>\n",
       "      <td>4783.250000</td>\n",
       "      <td>5966.000000</td>\n",
       "    </tr>\n",
       "    <tr>\n",
       "      <th>max</th>\n",
       "      <td>730.000000</td>\n",
       "      <td>4.000000</td>\n",
       "      <td>1.000000</td>\n",
       "      <td>12.000000</td>\n",
       "      <td>1.000000</td>\n",
       "      <td>6.000000</td>\n",
       "      <td>1.000000</td>\n",
       "      <td>3.000000</td>\n",
       "      <td>35.328347</td>\n",
       "      <td>42.044800</td>\n",
       "      <td>97.250000</td>\n",
       "      <td>34.000021</td>\n",
       "      <td>3410.000000</td>\n",
       "      <td>6946.000000</td>\n",
       "      <td>8714.000000</td>\n",
       "    </tr>\n",
       "  </tbody>\n",
       "</table>\n",
       "</div>"
      ],
      "text/plain": [
       "          instant      season          yr        mnth     holiday     weekday  \\\n",
       "count  730.000000  730.000000  730.000000  730.000000  730.000000  730.000000   \n",
       "mean   365.500000    2.498630    0.500000    6.526027    0.028767    2.997260   \n",
       "std    210.877136    1.110184    0.500343    3.450215    0.167266    2.006161   \n",
       "min      1.000000    1.000000    0.000000    1.000000    0.000000    0.000000   \n",
       "25%    183.250000    2.000000    0.000000    4.000000    0.000000    1.000000   \n",
       "50%    365.500000    3.000000    0.500000    7.000000    0.000000    3.000000   \n",
       "75%    547.750000    3.000000    1.000000   10.000000    0.000000    5.000000   \n",
       "max    730.000000    4.000000    1.000000   12.000000    1.000000    6.000000   \n",
       "\n",
       "       workingday  weathersit        temp       atemp         hum   windspeed  \\\n",
       "count  730.000000  730.000000  730.000000  730.000000  730.000000  730.000000   \n",
       "mean     0.683562    1.394521   20.319259   23.726322   62.765175   12.763620   \n",
       "std      0.465405    0.544807    7.506729    8.150308   14.237589    5.195841   \n",
       "min      0.000000    1.000000    2.424346    3.953480    0.000000    1.500244   \n",
       "25%      0.000000    1.000000   13.811885   16.889713   52.000000    9.041650   \n",
       "50%      1.000000    1.000000   20.465826   24.368225   62.625000   12.125325   \n",
       "75%      1.000000    2.000000   26.880615   30.445775   72.989575   15.625589   \n",
       "max      1.000000    3.000000   35.328347   42.044800   97.250000   34.000021   \n",
       "\n",
       "            casual   registered          cnt  \n",
       "count   730.000000   730.000000   730.000000  \n",
       "mean    849.249315  3658.757534  4508.006849  \n",
       "std     686.479875  1559.758728  1936.011647  \n",
       "min       2.000000    20.000000    22.000000  \n",
       "25%     316.250000  2502.250000  3169.750000  \n",
       "50%     717.000000  3664.500000  4548.500000  \n",
       "75%    1096.500000  4783.250000  5966.000000  \n",
       "max    3410.000000  6946.000000  8714.000000  "
      ]
     },
     "execution_count": 3,
     "metadata": {},
     "output_type": "execute_result"
    }
   ],
   "source": [
    "# Lets check the descriptive statistics on the data\n",
    "\n",
    "bike_df.describe()"
   ]
  },
  {
   "cell_type": "markdown",
   "metadata": {},
   "source": [
    "## 3. Understanding Problem statement\n",
    "\n",
    "Lets understand what the columns mean and which is the target variable that needs to be predicted\n",
    "\n",
    "Loading the data dictionary here for convinience\n",
    "- instant: record index\n",
    "\t- dteday : date\n",
    "\t- season : season (1:spring, 2:summer, 3:fall, 4:winter)\n",
    "\t- yr : year (0: 2018, 1:2019)\n",
    "\t- mnth : month ( 1 to 12)\n",
    "\t- holiday : weather day is a holiday or not (extracted from http://dchr.dc.gov/page/holiday-schedule)\n",
    "\t- weekday : day of the week\n",
    "\t- workingday : if day is neither weekend nor holiday is 1, otherwise is 0.\n",
    "\t+ weathersit : \n",
    "\t\t- 1: Clear, Few clouds, Partly cloudy, Partly cloudy\n",
    "\t\t- 2: Mist + Cloudy, Mist + Broken clouds, Mist + Few clouds, Mist\n",
    "\t\t- 3: Light Snow, Light Rain + Thunderstorm + Scattered clouds, Light Rain + Scattered clouds\n",
    "\t\t- 4: Heavy Rain + Ice Pallets + Thunderstorm + Mist, Snow + Fog\n",
    "\t- temp : temperature in Celsius\n",
    "\t- atemp: feeling temperature in Celsius\n",
    "\t- hum: humidity\n",
    "\t- windspeed: wind speed\n",
    "\t- casual: count of casual users\n",
    "\t- registered: count of registered users\n",
    "\t- cnt: count of total rental bikes including both casual and registered\n",
    "    \n",
    "Based on instructions we should use **\"cnt\"** as the ***Target Variable***\n",
    "  \n",
    "Some of the independent variables are coded, we will convert them to interpretable values for better data visualization\n"
   ]
  },
  {
   "cell_type": "markdown",
   "metadata": {},
   "source": [
    "## 4. Data Understanding"
   ]
  },
  {
   "cell_type": "code",
   "execution_count": 4,
   "metadata": {},
   "outputs": [
    {
     "data": {
      "text/plain": [
       "(730, 16)"
      ]
     },
     "execution_count": 4,
     "metadata": {},
     "output_type": "execute_result"
    }
   ],
   "source": [
    "# Check the shape of the dataset, number of records and columns\n",
    "bike_df.shape"
   ]
  },
  {
   "cell_type": "code",
   "execution_count": 5,
   "metadata": {},
   "outputs": [
    {
     "name": "stdout",
     "output_type": "stream",
     "text": [
      "<class 'pandas.core.frame.DataFrame'>\n",
      "RangeIndex: 730 entries, 0 to 729\n",
      "Data columns (total 16 columns):\n",
      " #   Column      Non-Null Count  Dtype  \n",
      "---  ------      --------------  -----  \n",
      " 0   instant     730 non-null    int64  \n",
      " 1   dteday      730 non-null    object \n",
      " 2   season      730 non-null    int64  \n",
      " 3   yr          730 non-null    int64  \n",
      " 4   mnth        730 non-null    int64  \n",
      " 5   holiday     730 non-null    int64  \n",
      " 6   weekday     730 non-null    int64  \n",
      " 7   workingday  730 non-null    int64  \n",
      " 8   weathersit  730 non-null    int64  \n",
      " 9   temp        730 non-null    float64\n",
      " 10  atemp       730 non-null    float64\n",
      " 11  hum         730 non-null    float64\n",
      " 12  windspeed   730 non-null    float64\n",
      " 13  casual      730 non-null    int64  \n",
      " 14  registered  730 non-null    int64  \n",
      " 15  cnt         730 non-null    int64  \n",
      "dtypes: float64(4), int64(11), object(1)\n",
      "memory usage: 91.4+ KB\n"
     ]
    }
   ],
   "source": [
    "# Check the initial information of the dataset, we get an idea if there are null records\n",
    "bike_df.info()"
   ]
  },
  {
   "cell_type": "code",
   "execution_count": 6,
   "metadata": {},
   "outputs": [
    {
     "data": {
      "text/html": [
       "<div>\n",
       "<style scoped>\n",
       "    .dataframe tbody tr th:only-of-type {\n",
       "        vertical-align: middle;\n",
       "    }\n",
       "\n",
       "    .dataframe tbody tr th {\n",
       "        vertical-align: top;\n",
       "    }\n",
       "\n",
       "    .dataframe thead th {\n",
       "        text-align: right;\n",
       "    }\n",
       "</style>\n",
       "<table border=\"1\" class=\"dataframe\">\n",
       "  <thead>\n",
       "    <tr style=\"text-align: right;\">\n",
       "      <th></th>\n",
       "      <th>instant</th>\n",
       "      <th>season</th>\n",
       "      <th>yr</th>\n",
       "      <th>mnth</th>\n",
       "      <th>holiday</th>\n",
       "      <th>weekday</th>\n",
       "      <th>workingday</th>\n",
       "      <th>weathersit</th>\n",
       "      <th>temp</th>\n",
       "      <th>atemp</th>\n",
       "      <th>hum</th>\n",
       "      <th>windspeed</th>\n",
       "      <th>casual</th>\n",
       "      <th>registered</th>\n",
       "      <th>cnt</th>\n",
       "    </tr>\n",
       "  </thead>\n",
       "  <tbody>\n",
       "    <tr>\n",
       "      <th>count</th>\n",
       "      <td>730.000000</td>\n",
       "      <td>730.000000</td>\n",
       "      <td>730.000000</td>\n",
       "      <td>730.000000</td>\n",
       "      <td>730.000000</td>\n",
       "      <td>730.000000</td>\n",
       "      <td>730.000000</td>\n",
       "      <td>730.000000</td>\n",
       "      <td>730.000000</td>\n",
       "      <td>730.000000</td>\n",
       "      <td>730.000000</td>\n",
       "      <td>730.000000</td>\n",
       "      <td>730.000000</td>\n",
       "      <td>730.000000</td>\n",
       "      <td>730.000000</td>\n",
       "    </tr>\n",
       "    <tr>\n",
       "      <th>mean</th>\n",
       "      <td>365.500000</td>\n",
       "      <td>2.498630</td>\n",
       "      <td>0.500000</td>\n",
       "      <td>6.526027</td>\n",
       "      <td>0.028767</td>\n",
       "      <td>2.997260</td>\n",
       "      <td>0.683562</td>\n",
       "      <td>1.394521</td>\n",
       "      <td>20.319259</td>\n",
       "      <td>23.726322</td>\n",
       "      <td>62.765175</td>\n",
       "      <td>12.763620</td>\n",
       "      <td>849.249315</td>\n",
       "      <td>3658.757534</td>\n",
       "      <td>4508.006849</td>\n",
       "    </tr>\n",
       "    <tr>\n",
       "      <th>std</th>\n",
       "      <td>210.877136</td>\n",
       "      <td>1.110184</td>\n",
       "      <td>0.500343</td>\n",
       "      <td>3.450215</td>\n",
       "      <td>0.167266</td>\n",
       "      <td>2.006161</td>\n",
       "      <td>0.465405</td>\n",
       "      <td>0.544807</td>\n",
       "      <td>7.506729</td>\n",
       "      <td>8.150308</td>\n",
       "      <td>14.237589</td>\n",
       "      <td>5.195841</td>\n",
       "      <td>686.479875</td>\n",
       "      <td>1559.758728</td>\n",
       "      <td>1936.011647</td>\n",
       "    </tr>\n",
       "    <tr>\n",
       "      <th>min</th>\n",
       "      <td>1.000000</td>\n",
       "      <td>1.000000</td>\n",
       "      <td>0.000000</td>\n",
       "      <td>1.000000</td>\n",
       "      <td>0.000000</td>\n",
       "      <td>0.000000</td>\n",
       "      <td>0.000000</td>\n",
       "      <td>1.000000</td>\n",
       "      <td>2.424346</td>\n",
       "      <td>3.953480</td>\n",
       "      <td>0.000000</td>\n",
       "      <td>1.500244</td>\n",
       "      <td>2.000000</td>\n",
       "      <td>20.000000</td>\n",
       "      <td>22.000000</td>\n",
       "    </tr>\n",
       "    <tr>\n",
       "      <th>25%</th>\n",
       "      <td>183.250000</td>\n",
       "      <td>2.000000</td>\n",
       "      <td>0.000000</td>\n",
       "      <td>4.000000</td>\n",
       "      <td>0.000000</td>\n",
       "      <td>1.000000</td>\n",
       "      <td>0.000000</td>\n",
       "      <td>1.000000</td>\n",
       "      <td>13.811885</td>\n",
       "      <td>16.889713</td>\n",
       "      <td>52.000000</td>\n",
       "      <td>9.041650</td>\n",
       "      <td>316.250000</td>\n",
       "      <td>2502.250000</td>\n",
       "      <td>3169.750000</td>\n",
       "    </tr>\n",
       "    <tr>\n",
       "      <th>50%</th>\n",
       "      <td>365.500000</td>\n",
       "      <td>3.000000</td>\n",
       "      <td>0.500000</td>\n",
       "      <td>7.000000</td>\n",
       "      <td>0.000000</td>\n",
       "      <td>3.000000</td>\n",
       "      <td>1.000000</td>\n",
       "      <td>1.000000</td>\n",
       "      <td>20.465826</td>\n",
       "      <td>24.368225</td>\n",
       "      <td>62.625000</td>\n",
       "      <td>12.125325</td>\n",
       "      <td>717.000000</td>\n",
       "      <td>3664.500000</td>\n",
       "      <td>4548.500000</td>\n",
       "    </tr>\n",
       "    <tr>\n",
       "      <th>75%</th>\n",
       "      <td>547.750000</td>\n",
       "      <td>3.000000</td>\n",
       "      <td>1.000000</td>\n",
       "      <td>10.000000</td>\n",
       "      <td>0.000000</td>\n",
       "      <td>5.000000</td>\n",
       "      <td>1.000000</td>\n",
       "      <td>2.000000</td>\n",
       "      <td>26.880615</td>\n",
       "      <td>30.445775</td>\n",
       "      <td>72.989575</td>\n",
       "      <td>15.625589</td>\n",
       "      <td>1096.500000</td>\n",
       "      <td>4783.250000</td>\n",
       "      <td>5966.000000</td>\n",
       "    </tr>\n",
       "    <tr>\n",
       "      <th>max</th>\n",
       "      <td>730.000000</td>\n",
       "      <td>4.000000</td>\n",
       "      <td>1.000000</td>\n",
       "      <td>12.000000</td>\n",
       "      <td>1.000000</td>\n",
       "      <td>6.000000</td>\n",
       "      <td>1.000000</td>\n",
       "      <td>3.000000</td>\n",
       "      <td>35.328347</td>\n",
       "      <td>42.044800</td>\n",
       "      <td>97.250000</td>\n",
       "      <td>34.000021</td>\n",
       "      <td>3410.000000</td>\n",
       "      <td>6946.000000</td>\n",
       "      <td>8714.000000</td>\n",
       "    </tr>\n",
       "  </tbody>\n",
       "</table>\n",
       "</div>"
      ],
      "text/plain": [
       "          instant      season          yr        mnth     holiday     weekday  \\\n",
       "count  730.000000  730.000000  730.000000  730.000000  730.000000  730.000000   \n",
       "mean   365.500000    2.498630    0.500000    6.526027    0.028767    2.997260   \n",
       "std    210.877136    1.110184    0.500343    3.450215    0.167266    2.006161   \n",
       "min      1.000000    1.000000    0.000000    1.000000    0.000000    0.000000   \n",
       "25%    183.250000    2.000000    0.000000    4.000000    0.000000    1.000000   \n",
       "50%    365.500000    3.000000    0.500000    7.000000    0.000000    3.000000   \n",
       "75%    547.750000    3.000000    1.000000   10.000000    0.000000    5.000000   \n",
       "max    730.000000    4.000000    1.000000   12.000000    1.000000    6.000000   \n",
       "\n",
       "       workingday  weathersit        temp       atemp         hum   windspeed  \\\n",
       "count  730.000000  730.000000  730.000000  730.000000  730.000000  730.000000   \n",
       "mean     0.683562    1.394521   20.319259   23.726322   62.765175   12.763620   \n",
       "std      0.465405    0.544807    7.506729    8.150308   14.237589    5.195841   \n",
       "min      0.000000    1.000000    2.424346    3.953480    0.000000    1.500244   \n",
       "25%      0.000000    1.000000   13.811885   16.889713   52.000000    9.041650   \n",
       "50%      1.000000    1.000000   20.465826   24.368225   62.625000   12.125325   \n",
       "75%      1.000000    2.000000   26.880615   30.445775   72.989575   15.625589   \n",
       "max      1.000000    3.000000   35.328347   42.044800   97.250000   34.000021   \n",
       "\n",
       "            casual   registered          cnt  \n",
       "count   730.000000   730.000000   730.000000  \n",
       "mean    849.249315  3658.757534  4508.006849  \n",
       "std     686.479875  1559.758728  1936.011647  \n",
       "min       2.000000    20.000000    22.000000  \n",
       "25%     316.250000  2502.250000  3169.750000  \n",
       "50%     717.000000  3664.500000  4548.500000  \n",
       "75%    1096.500000  4783.250000  5966.000000  \n",
       "max    3410.000000  6946.000000  8714.000000  "
      ]
     },
     "execution_count": 6,
     "metadata": {},
     "output_type": "execute_result"
    }
   ],
   "source": [
    "# Lets check the descriptive statistics on the data\n",
    "\n",
    "bike_df.describe()"
   ]
  },
  {
   "cell_type": "code",
   "execution_count": 7,
   "metadata": {},
   "outputs": [
    {
     "data": {
      "text/plain": [
       "instant       730\n",
       "dteday        730\n",
       "season          4\n",
       "yr              2\n",
       "mnth           12\n",
       "holiday         2\n",
       "weekday         7\n",
       "workingday      2\n",
       "weathersit      3\n",
       "temp          498\n",
       "atemp         689\n",
       "hum           594\n",
       "windspeed     649\n",
       "casual        605\n",
       "registered    678\n",
       "cnt           695\n",
       "dtype: int64"
      ]
     },
     "execution_count": 7,
     "metadata": {},
     "output_type": "execute_result"
    }
   ],
   "source": [
    "# Check unique value counts in each column\n",
    "\n",
    "bike_df.nunique()"
   ]
  },
  {
   "cell_type": "code",
   "execution_count": 8,
   "metadata": {},
   "outputs": [
    {
     "name": "stdout",
     "output_type": "stream",
     "text": [
      "Frequency of Season: \n",
      " 3    188\n",
      "2    184\n",
      "1    180\n",
      "4    178\n",
      "Name: season, dtype: int64\n",
      "Frequency of Year: \n",
      " 1    365\n",
      "0    365\n",
      "Name: yr, dtype: int64\n",
      "Frequency of Month: \n",
      " 12    62\n",
      "10    62\n",
      "8     62\n",
      "7     62\n",
      "5     62\n",
      "3     62\n",
      "1     62\n",
      "11    60\n",
      "9     60\n",
      "6     60\n",
      "4     60\n",
      "2     56\n",
      "Name: mnth, dtype: int64\n",
      "Frequency of Weekday: \n",
      " 6    105\n",
      "1    105\n",
      "0    105\n",
      "5    104\n",
      "4    104\n",
      "2    104\n",
      "3    103\n",
      "Name: weekday, dtype: int64\n",
      "Frequency of Working Day: \n",
      " 1    499\n",
      "0    231\n",
      "Name: workingday, dtype: int64\n",
      "Frequency of Weather: \n",
      " 1    463\n",
      "2    246\n",
      "3     21\n",
      "Name: weathersit, dtype: int64\n"
     ]
    }
   ],
   "source": [
    "# Lets get the freqeusncies of the categorocal variables\n",
    "\n",
    "print(\"Frequency of Season: \\n\", bike_df.season.value_counts())\n",
    "print(\"Frequency of Year: \\n\", bike_df.yr.value_counts())\n",
    "print(\"Frequency of Month: \\n\", bike_df.mnth.value_counts())\n",
    "print(\"Frequency of Weekday: \\n\", bike_df.weekday.value_counts())\n",
    "print(\"Frequency of Working Day: \\n\", bike_df.workingday.value_counts())\n",
    "print(\"Frequency of Weather: \\n\", bike_df.weathersit.value_counts())"
   ]
  },
  {
   "cell_type": "markdown",
   "metadata": {},
   "source": [
    "## 5. Missing Value & Duplicate Check"
   ]
  },
  {
   "cell_type": "code",
   "execution_count": 9,
   "metadata": {},
   "outputs": [
    {
     "data": {
      "text/plain": [
       "instant       0.0\n",
       "dteday        0.0\n",
       "season        0.0\n",
       "yr            0.0\n",
       "mnth          0.0\n",
       "holiday       0.0\n",
       "weekday       0.0\n",
       "workingday    0.0\n",
       "weathersit    0.0\n",
       "temp          0.0\n",
       "atemp         0.0\n",
       "hum           0.0\n",
       "windspeed     0.0\n",
       "casual        0.0\n",
       "registered    0.0\n",
       "cnt           0.0\n",
       "dtype: float64"
      ]
     },
     "execution_count": 9,
     "metadata": {},
     "output_type": "execute_result"
    }
   ],
   "source": [
    "# Check the missing value percentages\n",
    "\n",
    "bike_df.isnull().sum()/bike_df.shape[0]"
   ]
  },
  {
   "cell_type": "markdown",
   "metadata": {},
   "source": [
    "So we don't have missing values in the data"
   ]
  },
  {
   "cell_type": "code",
   "execution_count": 10,
   "metadata": {},
   "outputs": [
    {
     "data": {
      "text/plain": [
       "0"
      ]
     },
     "execution_count": 10,
     "metadata": {},
     "output_type": "execute_result"
    }
   ],
   "source": [
    "# Check for duplicate values\n",
    "\n",
    "bike_df.duplicated().sum()"
   ]
  },
  {
   "cell_type": "markdown",
   "metadata": {},
   "source": [
    "So there are no duplicate observations"
   ]
  },
  {
   "cell_type": "markdown",
   "metadata": {},
   "source": [
    "## 6. EDA"
   ]
  },
  {
   "cell_type": "markdown",
   "metadata": {},
   "source": [
    "From the above data understanding we saw that certain independent variables were coded. So we will try to convert them to their original values and plot the visualizations to get a fair understand of some of the patterns. We will do Univariate, Bivariate and Multi-Variate analysis before proceeding forward with modelling"
   ]
  },
  {
   "cell_type": "code",
   "execution_count": 11,
   "metadata": {},
   "outputs": [],
   "source": [
    "# The holiday variable seem to be redundant with workday and instant is a record index, We will drop them\n",
    "\n",
    "bike_df = bike_df.drop([\"instant\", \"holiday\"], axis = 1)"
   ]
  },
  {
   "cell_type": "code",
   "execution_count": 12,
   "metadata": {},
   "outputs": [
    {
     "data": {
      "text/html": [
       "<div>\n",
       "<style scoped>\n",
       "    .dataframe tbody tr th:only-of-type {\n",
       "        vertical-align: middle;\n",
       "    }\n",
       "\n",
       "    .dataframe tbody tr th {\n",
       "        vertical-align: top;\n",
       "    }\n",
       "\n",
       "    .dataframe thead th {\n",
       "        text-align: right;\n",
       "    }\n",
       "</style>\n",
       "<table border=\"1\" class=\"dataframe\">\n",
       "  <thead>\n",
       "    <tr style=\"text-align: right;\">\n",
       "      <th></th>\n",
       "      <th>dteday</th>\n",
       "      <th>season</th>\n",
       "      <th>yr</th>\n",
       "      <th>mnth</th>\n",
       "      <th>weekday</th>\n",
       "      <th>workingday</th>\n",
       "      <th>weathersit</th>\n",
       "      <th>temp</th>\n",
       "      <th>atemp</th>\n",
       "      <th>hum</th>\n",
       "      <th>windspeed</th>\n",
       "      <th>casual</th>\n",
       "      <th>registered</th>\n",
       "      <th>cnt</th>\n",
       "    </tr>\n",
       "  </thead>\n",
       "  <tbody>\n",
       "    <tr>\n",
       "      <th>0</th>\n",
       "      <td>01-01-2018</td>\n",
       "      <td>1</td>\n",
       "      <td>0</td>\n",
       "      <td>1</td>\n",
       "      <td>6</td>\n",
       "      <td>0</td>\n",
       "      <td>2</td>\n",
       "      <td>14.110847</td>\n",
       "      <td>18.18125</td>\n",
       "      <td>80.5833</td>\n",
       "      <td>10.749882</td>\n",
       "      <td>331</td>\n",
       "      <td>654</td>\n",
       "      <td>985</td>\n",
       "    </tr>\n",
       "    <tr>\n",
       "      <th>1</th>\n",
       "      <td>02-01-2018</td>\n",
       "      <td>1</td>\n",
       "      <td>0</td>\n",
       "      <td>1</td>\n",
       "      <td>0</td>\n",
       "      <td>0</td>\n",
       "      <td>2</td>\n",
       "      <td>14.902598</td>\n",
       "      <td>17.68695</td>\n",
       "      <td>69.6087</td>\n",
       "      <td>16.652113</td>\n",
       "      <td>131</td>\n",
       "      <td>670</td>\n",
       "      <td>801</td>\n",
       "    </tr>\n",
       "    <tr>\n",
       "      <th>2</th>\n",
       "      <td>03-01-2018</td>\n",
       "      <td>1</td>\n",
       "      <td>0</td>\n",
       "      <td>1</td>\n",
       "      <td>1</td>\n",
       "      <td>1</td>\n",
       "      <td>1</td>\n",
       "      <td>8.050924</td>\n",
       "      <td>9.47025</td>\n",
       "      <td>43.7273</td>\n",
       "      <td>16.636703</td>\n",
       "      <td>120</td>\n",
       "      <td>1229</td>\n",
       "      <td>1349</td>\n",
       "    </tr>\n",
       "    <tr>\n",
       "      <th>3</th>\n",
       "      <td>04-01-2018</td>\n",
       "      <td>1</td>\n",
       "      <td>0</td>\n",
       "      <td>1</td>\n",
       "      <td>2</td>\n",
       "      <td>1</td>\n",
       "      <td>1</td>\n",
       "      <td>8.200000</td>\n",
       "      <td>10.60610</td>\n",
       "      <td>59.0435</td>\n",
       "      <td>10.739832</td>\n",
       "      <td>108</td>\n",
       "      <td>1454</td>\n",
       "      <td>1562</td>\n",
       "    </tr>\n",
       "    <tr>\n",
       "      <th>4</th>\n",
       "      <td>05-01-2018</td>\n",
       "      <td>1</td>\n",
       "      <td>0</td>\n",
       "      <td>1</td>\n",
       "      <td>3</td>\n",
       "      <td>1</td>\n",
       "      <td>1</td>\n",
       "      <td>9.305237</td>\n",
       "      <td>11.46350</td>\n",
       "      <td>43.6957</td>\n",
       "      <td>12.522300</td>\n",
       "      <td>82</td>\n",
       "      <td>1518</td>\n",
       "      <td>1600</td>\n",
       "    </tr>\n",
       "  </tbody>\n",
       "</table>\n",
       "</div>"
      ],
      "text/plain": [
       "       dteday  season  yr  mnth  weekday  workingday  weathersit       temp  \\\n",
       "0  01-01-2018       1   0     1        6           0           2  14.110847   \n",
       "1  02-01-2018       1   0     1        0           0           2  14.902598   \n",
       "2  03-01-2018       1   0     1        1           1           1   8.050924   \n",
       "3  04-01-2018       1   0     1        2           1           1   8.200000   \n",
       "4  05-01-2018       1   0     1        3           1           1   9.305237   \n",
       "\n",
       "      atemp      hum  windspeed  casual  registered   cnt  \n",
       "0  18.18125  80.5833  10.749882     331         654   985  \n",
       "1  17.68695  69.6087  16.652113     131         670   801  \n",
       "2   9.47025  43.7273  16.636703     120        1229  1349  \n",
       "3  10.60610  59.0435  10.739832     108        1454  1562  \n",
       "4  11.46350  43.6957  12.522300      82        1518  1600  "
      ]
     },
     "execution_count": 12,
     "metadata": {},
     "output_type": "execute_result"
    }
   ],
   "source": [
    "bike_df.head()"
   ]
  },
  {
   "cell_type": "code",
   "execution_count": 13,
   "metadata": {},
   "outputs": [
    {
     "data": {
      "text/plain": [
       "dtype('O')"
      ]
     },
     "execution_count": 13,
     "metadata": {},
     "output_type": "execute_result"
    }
   ],
   "source": [
    "# Check datatype of dteday\n",
    "bike_df[\"dteday\"].dtype"
   ]
  },
  {
   "cell_type": "code",
   "execution_count": 14,
   "metadata": {},
   "outputs": [],
   "source": [
    "# We will convert the \"dteday\" to date\n",
    "bike_df[\"dteday\"] = pd.to_datetime(bike_df[\"dteday\"])"
   ]
  },
  {
   "cell_type": "code",
   "execution_count": 15,
   "metadata": {},
   "outputs": [],
   "source": [
    "# Extract the year and month from this day and drop the existing \"yr\" and \"mnth\" and \"dteday\" columns\n",
    "# as they would be redundant\n",
    "\n",
    "bike_df[\"year\"] = bike_df[\"dteday\"].dt.year\n",
    "bike_df[\"month\"] = bike_df[\"dteday\"].dt.month"
   ]
  },
  {
   "cell_type": "code",
   "execution_count": 16,
   "metadata": {},
   "outputs": [
    {
     "data": {
      "text/plain": [
       "array([2018, 2019])"
      ]
     },
     "execution_count": 16,
     "metadata": {},
     "output_type": "execute_result"
    }
   ],
   "source": [
    "bike_df[\"year\"].unique()"
   ]
  },
  {
   "cell_type": "code",
   "execution_count": 17,
   "metadata": {},
   "outputs": [
    {
     "data": {
      "text/plain": [
       "array([ 1,  2,  3,  4,  5,  6,  7,  8,  9, 10, 11, 12])"
      ]
     },
     "execution_count": 17,
     "metadata": {},
     "output_type": "execute_result"
    }
   ],
   "source": [
    "bike_df[\"month\"].unique()"
   ]
  },
  {
   "cell_type": "code",
   "execution_count": 18,
   "metadata": {},
   "outputs": [],
   "source": [
    "bike_df = bike_df.drop([\"yr\", \"mnth\", \"dteday\"], axis=1)"
   ]
  },
  {
   "cell_type": "code",
   "execution_count": 19,
   "metadata": {},
   "outputs": [],
   "source": [
    "# Drop the casual and registered variables as well as they contribute to the target \"cnt\" dependent variable\n",
    "# and we cannot use these two variable in model training\n",
    "\n",
    "bike_df = bike_df.drop([\"casual\", \"registered\"], axis=1)"
   ]
  },
  {
   "cell_type": "code",
   "execution_count": 20,
   "metadata": {},
   "outputs": [],
   "source": [
    "# Convert encoded values of caatgorical columns to original prior to data visualization\n",
    "# Lets convert \"season\"\n",
    "\n",
    "bike_df[\"season\"] = bike_df[\"season\"].map({1: 'spring', 2: 'summer', 3: 'fall', 4: 'winter'})"
   ]
  },
  {
   "cell_type": "code",
   "execution_count": 21,
   "metadata": {},
   "outputs": [],
   "source": [
    "# Next convert \"weathersit\"\n",
    "\n",
    "bike_df[\"weathersit\"] = bike_df[\"weathersit\"].map({1:'Clear',2:'Mist',3:'Light Snow',4:'Heavy Rain'})"
   ]
  },
  {
   "cell_type": "code",
   "execution_count": 22,
   "metadata": {},
   "outputs": [],
   "source": [
    "# Next convert \"weekday\"\n",
    "\n",
    "bike_df[\"weekday\"] = bike_df[\"weekday\"].map({0:'Mon',1:'Tue',2:'Wed',3:'Thu',4:'Fri',5:'Sat',6:'Sun'})"
   ]
  },
  {
   "cell_type": "code",
   "execution_count": 23,
   "metadata": {},
   "outputs": [],
   "source": [
    "# Next Convert \"workingday\"\n",
    "\n",
    "bike_df[\"workingday\"] = bike_df[\"workingday\"].map({1:'working_day',0:'holiday'})"
   ]
  },
  {
   "cell_type": "code",
   "execution_count": 24,
   "metadata": {},
   "outputs": [],
   "source": [
    "# Next convert \"month\"\n",
    "\n",
    "bike_df[\"month\"] = bike_df[\"month\"].map({1:'Jan',2:'Feb',3:'Mar',4:'Apr',5:'May',6:'June',7:'July',8:'Aug',9:'Sep',10:'Oct',11:'Nov',12:'Dec'})"
   ]
  },
  {
   "cell_type": "code",
   "execution_count": 25,
   "metadata": {},
   "outputs": [
    {
     "data": {
      "text/html": [
       "<div>\n",
       "<style scoped>\n",
       "    .dataframe tbody tr th:only-of-type {\n",
       "        vertical-align: middle;\n",
       "    }\n",
       "\n",
       "    .dataframe tbody tr th {\n",
       "        vertical-align: top;\n",
       "    }\n",
       "\n",
       "    .dataframe thead th {\n",
       "        text-align: right;\n",
       "    }\n",
       "</style>\n",
       "<table border=\"1\" class=\"dataframe\">\n",
       "  <thead>\n",
       "    <tr style=\"text-align: right;\">\n",
       "      <th></th>\n",
       "      <th>season</th>\n",
       "      <th>weekday</th>\n",
       "      <th>workingday</th>\n",
       "      <th>weathersit</th>\n",
       "      <th>temp</th>\n",
       "      <th>atemp</th>\n",
       "      <th>hum</th>\n",
       "      <th>windspeed</th>\n",
       "      <th>cnt</th>\n",
       "      <th>year</th>\n",
       "      <th>month</th>\n",
       "    </tr>\n",
       "  </thead>\n",
       "  <tbody>\n",
       "    <tr>\n",
       "      <th>0</th>\n",
       "      <td>spring</td>\n",
       "      <td>Sun</td>\n",
       "      <td>holiday</td>\n",
       "      <td>Mist</td>\n",
       "      <td>14.110847</td>\n",
       "      <td>18.18125</td>\n",
       "      <td>80.5833</td>\n",
       "      <td>10.749882</td>\n",
       "      <td>985</td>\n",
       "      <td>2018</td>\n",
       "      <td>Jan</td>\n",
       "    </tr>\n",
       "    <tr>\n",
       "      <th>1</th>\n",
       "      <td>spring</td>\n",
       "      <td>Mon</td>\n",
       "      <td>holiday</td>\n",
       "      <td>Mist</td>\n",
       "      <td>14.902598</td>\n",
       "      <td>17.68695</td>\n",
       "      <td>69.6087</td>\n",
       "      <td>16.652113</td>\n",
       "      <td>801</td>\n",
       "      <td>2018</td>\n",
       "      <td>Feb</td>\n",
       "    </tr>\n",
       "    <tr>\n",
       "      <th>2</th>\n",
       "      <td>spring</td>\n",
       "      <td>Tue</td>\n",
       "      <td>working_day</td>\n",
       "      <td>Clear</td>\n",
       "      <td>8.050924</td>\n",
       "      <td>9.47025</td>\n",
       "      <td>43.7273</td>\n",
       "      <td>16.636703</td>\n",
       "      <td>1349</td>\n",
       "      <td>2018</td>\n",
       "      <td>Mar</td>\n",
       "    </tr>\n",
       "    <tr>\n",
       "      <th>3</th>\n",
       "      <td>spring</td>\n",
       "      <td>Wed</td>\n",
       "      <td>working_day</td>\n",
       "      <td>Clear</td>\n",
       "      <td>8.200000</td>\n",
       "      <td>10.60610</td>\n",
       "      <td>59.0435</td>\n",
       "      <td>10.739832</td>\n",
       "      <td>1562</td>\n",
       "      <td>2018</td>\n",
       "      <td>Apr</td>\n",
       "    </tr>\n",
       "    <tr>\n",
       "      <th>4</th>\n",
       "      <td>spring</td>\n",
       "      <td>Thu</td>\n",
       "      <td>working_day</td>\n",
       "      <td>Clear</td>\n",
       "      <td>9.305237</td>\n",
       "      <td>11.46350</td>\n",
       "      <td>43.6957</td>\n",
       "      <td>12.522300</td>\n",
       "      <td>1600</td>\n",
       "      <td>2018</td>\n",
       "      <td>May</td>\n",
       "    </tr>\n",
       "  </tbody>\n",
       "</table>\n",
       "</div>"
      ],
      "text/plain": [
       "   season weekday   workingday weathersit       temp     atemp      hum  \\\n",
       "0  spring     Sun      holiday       Mist  14.110847  18.18125  80.5833   \n",
       "1  spring     Mon      holiday       Mist  14.902598  17.68695  69.6087   \n",
       "2  spring     Tue  working_day      Clear   8.050924   9.47025  43.7273   \n",
       "3  spring     Wed  working_day      Clear   8.200000  10.60610  59.0435   \n",
       "4  spring     Thu  working_day      Clear   9.305237  11.46350  43.6957   \n",
       "\n",
       "   windspeed   cnt  year month  \n",
       "0  10.749882   985  2018   Jan  \n",
       "1  16.652113   801  2018   Feb  \n",
       "2  16.636703  1349  2018   Mar  \n",
       "3  10.739832  1562  2018   Apr  \n",
       "4  12.522300  1600  2018   May  "
      ]
     },
     "execution_count": 25,
     "metadata": {},
     "output_type": "execute_result"
    }
   ],
   "source": [
    "# Check the dataFrame now\n",
    "\n",
    "bike_df.head()"
   ]
  },
  {
   "cell_type": "markdown",
   "metadata": {},
   "source": [
    "### 6.1 Univariate Analysis"
   ]
  },
  {
   "cell_type": "code",
   "execution_count": 26,
   "metadata": {},
   "outputs": [
    {
     "data": {
      "image/png": "[encoded data removed]",
      "text/plain": [
       "<Figure size 1080x1080 with 6 Axes>"
      ]
     },
     "metadata": {
      "needs_background": "light"
     },
     "output_type": "display_data"
    }
   ],
   "source": [
    "# Data Visualization of Catagorical variables\n",
    "\n",
    "plt.figure(figsize=[15, 15])\n",
    "\n",
    "plt.subplot(3, 2, 1)\n",
    "sns.countplot(data=bike_df, x=\"season\")\n",
    "plt.xlabel(\"Season\")\n",
    "plt.title(\"Season Distribution\")\n",
    "\n",
    "plt.subplot(3, 2, 2)\n",
    "sns.countplot(data=bike_df, x=\"weathersit\").set(ylabel=None)\n",
    "plt.xlabel(\"Weather\")\n",
    "plt.title(\"Weather Distribution\")\n",
    "\n",
    "plt.subplot(3, 2, 3)\n",
    "sns.countplot(data=bike_df, x=\"workingday\")\n",
    "plt.xlabel(\"Working Day\")\n",
    "plt.title(\"Working Day vs Holiday Distribution\")\n",
    "\n",
    "plt.subplot(3, 2, 4)\n",
    "sns.countplot(data=bike_df, x=\"weekday\").set(ylabel=None)\n",
    "plt.xlabel(\"Weekday\")\n",
    "plt.title(\"Weekday Distribution\")\n",
    "\n",
    "plt.subplot(3, 2, 5)\n",
    "sns.countplot(data=bike_df, x=\"year\")\n",
    "plt.xlabel(\"Year\")\n",
    "plt.title(\"Year Distribution\")\n",
    "\n",
    "plt.subplot(3, 2, 6)\n",
    "sns.countplot(data=bike_df, x=\"month\").set(ylabel=None)\n",
    "plt.xlabel(\"Month\")\n",
    "plt.title(\"Month Distribution\")\n",
    "\n",
    "plt.tight_layout()\n",
    "plt.show()"
   ]
  },
  {
   "cell_type": "markdown",
   "metadata": {},
   "source": [
    "#### Analysis\n",
    "\n",
    "1. All four seasons are mostly equally represented in data\n",
    "2. There are more observations with Clear weather\n",
    "3. Workdays are represented more in the data\n",
    "4. All weekdays are more or less equally represented in data\n",
    "5. There were equal observations during 2018 and 2019\n",
    "6. All months are more or less equally represented in the dataset\n"
   ]
  },
  {
   "cell_type": "code",
   "execution_count": 27,
   "metadata": {
    "scrolled": false
   },
   "outputs": [
    {
     "data": {
      "image/png": "[encoded data removed]",
      "text/plain": [
       "<Figure size 864x720 with 4 Axes>"
      ]
     },
     "metadata": {
      "needs_background": "light"
     },
     "output_type": "display_data"
    }
   ],
   "source": [
    "# Data Visualization of Continuous variables\n",
    "\n",
    "plt.figure(figsize=[12, 10])\n",
    "\n",
    "plt.subplot(2, 2, 1)\n",
    "sns.histplot(data=bike_df, x=\"temp\", bins=20)\n",
    "plt.xlabel(\"Temperature\")\n",
    "plt.title(\"Temperature Distribution\")\n",
    "\n",
    "plt.subplot(2, 2, 2)\n",
    "sns.histplot(data=bike_df, x=\"atemp\", bins=20).set(ylabel=None)\n",
    "plt.xlabel(\"Temperature Feel\")\n",
    "plt.title(\"Temperature Feel Distribution\")\n",
    "\n",
    "plt.subplot(2, 2, 3)\n",
    "sns.histplot(data=bike_df, x=\"hum\", bins=20)\n",
    "plt.xlabel(\"Humidity\")\n",
    "plt.title(\"Humidity Distribution\")\n",
    "\n",
    "plt.subplot(2, 2, 4)\n",
    "sns.histplot(data=bike_df, x=\"windspeed\", bins=20).set(ylabel=None)\n",
    "plt.xlabel(\"Wind Speed\")\n",
    "plt.title(\"Wind Speed Distribution\")\n",
    "\n",
    "plt.tight_layout()\n",
    "plt.show()"
   ]
  },
  {
   "cell_type": "code",
   "execution_count": 28,
   "metadata": {},
   "outputs": [
    {
     "data": {
      "image/png": "[encoded data removed]",
      "text/plain": [
       "<Figure size 864x720 with 4 Axes>"
      ]
     },
     "metadata": {
      "needs_background": "light"
     },
     "output_type": "display_data"
    }
   ],
   "source": [
    "#Outliers Analysis\n",
    "\n",
    "plt.figure(figsize=[12, 10])\n",
    "\n",
    "plt.subplot(2, 2, 1)\n",
    "sns.boxplot(data=bike_df, x=\"temp\")\n",
    "plt.xlabel(\"Temperature\")\n",
    "plt.title(\"Temperature Distribution\")\n",
    "\n",
    "plt.subplot(2, 2, 2)\n",
    "sns.boxplot(data=bike_df, x=\"atemp\").set(ylabel=None)\n",
    "plt.xlabel(\"Temperature Feel\")\n",
    "plt.title(\"Temperature Feel Distribution\")\n",
    "\n",
    "plt.subplot(2, 2, 3)\n",
    "sns.boxplot(data=bike_df, x=\"hum\")\n",
    "plt.xlabel(\"Humidity\")\n",
    "plt.title(\"Humidity Distribution\")\n",
    "\n",
    "plt.subplot(2, 2, 4)\n",
    "sns.boxplot(data=bike_df, x=\"windspeed\").set(ylabel=None)\n",
    "plt.xlabel(\"Wind Speed\")\n",
    "plt.title(\"Wind Speed Distribution\")\n",
    "\n",
    "plt.tight_layout()\n",
    "plt.show()"
   ]
  },
  {
   "cell_type": "markdown",
   "metadata": {},
   "source": [
    "#### Analysis\n",
    "\n",
    "1. Temperature has a mean of around 20 degrees Celsius and Temperature Feel has a mean of around 24. None of this are normally distributed but doesn't have too much outliers either.\n",
    "2. Humidity has a mean of around 63 and the distribution is normal with a slight left skew. Not a lot of outliers observed.\n",
    "3. Windspeed has a mean of around 13 and its distribution is normal. It has a few outliers in higher range between 25-35"
   ]
  },
  {
   "cell_type": "markdown",
   "metadata": {},
   "source": [
    "### 6.2 Bivariate and Multivariate Analysis"
   ]
  },
  {
   "cell_type": "markdown",
   "metadata": {},
   "source": [
    "Lets first conduct the analysis with numeric/continuous independent variables and their relationship with target variable 'cnt'\n"
   ]
  },
  {
   "cell_type": "code",
   "execution_count": 29,
   "metadata": {},
   "outputs": [
    {
     "data": {
      "image/png": "[encoded data removed]",
      "text/plain": [
       "<Figure size 864x720 with 4 Axes>"
      ]
     },
     "metadata": {
      "needs_background": "light"
     },
     "output_type": "display_data"
    }
   ],
   "source": [
    "plt.figure(figsize=[12, 10])\n",
    "\n",
    "plt.subplot(2, 2, 1)\n",
    "plt.scatter(data=bike_df, x=\"cnt\", y=\"temp\")\n",
    "plt.xlabel(\"Bike Demand\")\n",
    "plt.ylabel(\"Temperature\")\n",
    "plt.title(\"Temperature vs Bike Demand Distribution\")\n",
    "\n",
    "plt.subplot(2, 2, 2)\n",
    "plt.scatter(data=bike_df, x=\"cnt\", y=\"atemp\")\n",
    "plt.xlabel(\"Bike Demand\")\n",
    "plt.ylabel(\"Temperature Feel\")\n",
    "plt.title(\"Temperature Feel vs Bike Demand Distribution\")\n",
    "\n",
    "plt.subplot(2, 2, 3)\n",
    "plt.scatter(data=bike_df, x=\"cnt\", y=\"hum\")\n",
    "plt.xlabel(\"Bike Demand\")\n",
    "plt.ylabel(\"Humidity\")\n",
    "plt.title(\"Humidity vs Bike Demand Distribution\")\n",
    "\n",
    "plt.subplot(2, 2, 4)\n",
    "plt.scatter(data=bike_df, x=\"cnt\", y=\"windspeed\")\n",
    "plt.xlabel(\"Bike Demand\")\n",
    "plt.ylabel(\"Wind Speed\")\n",
    "plt.title(\"Wind Speed vs Bike Demand Distribution\")\n",
    "\n",
    "plt.tight_layout()\n",
    "plt.show()"
   ]
  },
  {
   "cell_type": "markdown",
   "metadata": {},
   "source": [
    "#### Analysis\n",
    "1. Bike Demand has a linear positive trend with Temperature. Higher temperature has higher demand\n",
    "\n",
    "2. Bike Demand has similar trend with Temperature feel. \n",
    "\n",
    "3. Bike Demand seem to be higher with higher humidity\n",
    "\n",
    "4. Lower Windspeed has higher bike demand"
   ]
  },
  {
   "cell_type": "markdown",
   "metadata": {},
   "source": [
    "Lets now conduct analysis between \"cnt\" or bike demand with categorical variables\n"
   ]
  },
  {
   "cell_type": "code",
   "execution_count": 30,
   "metadata": {},
   "outputs": [
    {
     "data": {
      "image/png": "[encoded data removed]",
      "text/plain": [
       "<Figure size 1080x1080 with 6 Axes>"
      ]
     },
     "metadata": {
      "needs_background": "light"
     },
     "output_type": "display_data"
    }
   ],
   "source": [
    "# Bivariate Analysis of Catagorical variables\n",
    "\n",
    "plt.figure(figsize=[15, 15])\n",
    "\n",
    "plt.subplot(3, 2, 1)\n",
    "sns.barplot(data=bike_df, x=\"season\", y=\"cnt\")\n",
    "plt.xlabel(\"Season\")\n",
    "plt.ylabel(\"Bike Demand\")\n",
    "plt.title(\"Season vs Bike Demand Distribution\")\n",
    "\n",
    "plt.subplot(3, 2, 2)\n",
    "sns.barplot(data=bike_df, x=\"weathersit\", y=\"cnt\").set(ylabel=None)\n",
    "plt.xlabel(\"Weather\")\n",
    "plt.title(\"Weather vs Bike Demand Distribution\")\n",
    "\n",
    "plt.subplot(3, 2, 3)\n",
    "sns.barplot(data=bike_df, x=\"workingday\", y=\"cnt\")\n",
    "plt.xlabel(\"Working Day\")\n",
    "plt.ylabel(\"Bike Demand\")\n",
    "plt.title(\"Working Day/Holiday vs Bike Demand Distribution\")\n",
    "\n",
    "plt.subplot(3, 2, 4)\n",
    "bike_df.groupby('weekday')['cnt'].max().plot(kind='bar')\n",
    "plt.xlabel(\"Weekday\")\n",
    "plt.title(\"Weekday vs Bike Demand Distribution\")\n",
    "\n",
    "plt.subplot(3, 2, 5)\n",
    "sns.barplot(data=bike_df, x=\"year\", y=\"cnt\")\n",
    "plt.xlabel(\"Year\")\n",
    "plt.ylabel(\"Bike Demand\")\n",
    "plt.title(\"Year vs Bike Demand Distribution\")\n",
    "\n",
    "plt.subplot(3, 2, 6)\n",
    "sns.barplot(data=bike_df, x=\"month\", y=\"cnt\").set(ylabel=None)\n",
    "plt.xlabel(\"Month\")\n",
    "plt.title(\"Month vs Bike Demand Distribution\")\n",
    "\n",
    "plt.tight_layout()\n",
    "plt.show()"
   ]
  },
  {
   "cell_type": "markdown",
   "metadata": {},
   "source": [
    "#### Analysis\n",
    "\n",
    "1. There is higher bike demand during the Fall season\n",
    "2. Clear Weather also leads to increase in bike demand\n",
    "3. There are slightly more demands for bikes during working days\n",
    "4. Weekend (Saturday and Sunday) seems to have higher demand\n",
    "5. The demand for bike sharing had increased from 2018 to 2019\n",
    "6. Summer and Fall have higher demand as seen from the months distribution"
   ]
  },
  {
   "cell_type": "code",
   "execution_count": 31,
   "metadata": {},
   "outputs": [
    {
     "data": {
      "image/png": "[encoded data removed]",
      "text/plain": [
       "<Figure size 864x432 with 2 Axes>"
      ]
     },
     "metadata": {
      "needs_background": "light"
     },
     "output_type": "display_data"
    }
   ],
   "source": [
    "# Lets plot a heatmap\n",
    "\n",
    "plt.figure(figsize=[12,6])\n",
    "\n",
    "sns.heatmap(bike_df.corr(), cmap=\"coolwarm\", annot=True)\n",
    "plt.show()"
   ]
  },
  {
   "cell_type": "markdown",
   "metadata": {},
   "source": [
    "#### Analysis\n",
    "\n",
    "1. Both temperature (\"temp\") and temperature feel (\"atemp\") have high correlation with each other which signifies multicollinearity. One of them can be dropped\n",
    "\n",
    "2. Year (\"year\") has high positive correlation with bike demand as we have also seen in earlier bivariate analysis\n",
    "\n",
    "3. Similary temperature (\"temp\") and temperature feel (\"atemp\") have high positive correlation with bike demand. Higher temperature tends to increase demand\n",
    "\n",
    "4. Windspeed has a mild negative correlation with bike demand. Usually molder conditions will drive demand."
   ]
  },
  {
   "cell_type": "code",
   "execution_count": 32,
   "metadata": {},
   "outputs": [],
   "source": [
    "# Dropping the Temperature Feel variable\n",
    "bike_df = bike_df.drop([\"atemp\"], axis=1)"
   ]
  },
  {
   "cell_type": "code",
   "execution_count": 33,
   "metadata": {},
   "outputs": [
    {
     "data": {
      "text/plain": [
       "array([0, 1])"
      ]
     },
     "execution_count": 33,
     "metadata": {},
     "output_type": "execute_result"
    }
   ],
   "source": [
    "# Change Year back to binary values\n",
    "\n",
    "bike_df[\"year\"] = bike_df[\"year\"].map({2018: 0, 2019: 1})\n",
    "bike_df[\"year\"].unique()"
   ]
  },
  {
   "cell_type": "markdown",
   "metadata": {},
   "source": [
    "## 7. Preprocessing"
   ]
  },
  {
   "cell_type": "markdown",
   "metadata": {},
   "source": [
    "### Dummy Variable creation\n",
    "\n",
    "We need to now create dummy variables for categorical independent variables to encode thema nd make them numeric before proceeding to model building. Categorical variables with 2 or more unique values need to be encoded. The rule is to create n-1 dummy variables for n levels of a categorical variable"
   ]
  },
  {
   "cell_type": "code",
   "execution_count": 34,
   "metadata": {},
   "outputs": [],
   "source": [
    "seasons = pd.get_dummies(bike_df['season'], drop_first=True, dtype=int)\n",
    "\n",
    "week_day= pd.get_dummies(bike_df['weekday'], drop_first=True, dtype=int)\n",
    "\n",
    "working_day = pd.get_dummies(bike_df['workingday'], drop_first=True, dtype=int)\n",
    "\n",
    "weather= pd.get_dummies(bike_df['weathersit'], drop_first=True, dtype=int)\n",
    "\n",
    "month= pd.get_dummies(bike_df['month'], drop_first=True, dtype=int)\n"
   ]
  },
  {
   "cell_type": "code",
   "execution_count": 35,
   "metadata": {},
   "outputs": [],
   "source": [
    "# Now lets proceed to add these columns to original bike_df dataset\n",
    "\n",
    "bike_df = pd.concat([bike_df, seasons, week_day, working_day, weather, month],axis=1)"
   ]
  },
  {
   "cell_type": "code",
   "execution_count": 36,
   "metadata": {},
   "outputs": [
    {
     "data": {
      "text/html": [
       "<div>\n",
       "<style scoped>\n",
       "    .dataframe tbody tr th:only-of-type {\n",
       "        vertical-align: middle;\n",
       "    }\n",
       "\n",
       "    .dataframe tbody tr th {\n",
       "        vertical-align: top;\n",
       "    }\n",
       "\n",
       "    .dataframe thead th {\n",
       "        text-align: right;\n",
       "    }\n",
       "</style>\n",
       "<table border=\"1\" class=\"dataframe\">\n",
       "  <thead>\n",
       "    <tr style=\"text-align: right;\">\n",
       "      <th></th>\n",
       "      <th>season</th>\n",
       "      <th>weekday</th>\n",
       "      <th>workingday</th>\n",
       "      <th>weathersit</th>\n",
       "      <th>temp</th>\n",
       "      <th>hum</th>\n",
       "      <th>windspeed</th>\n",
       "      <th>cnt</th>\n",
       "      <th>year</th>\n",
       "      <th>month</th>\n",
       "      <th>...</th>\n",
       "      <th>Dec</th>\n",
       "      <th>Feb</th>\n",
       "      <th>Jan</th>\n",
       "      <th>July</th>\n",
       "      <th>June</th>\n",
       "      <th>Mar</th>\n",
       "      <th>May</th>\n",
       "      <th>Nov</th>\n",
       "      <th>Oct</th>\n",
       "      <th>Sep</th>\n",
       "    </tr>\n",
       "  </thead>\n",
       "  <tbody>\n",
       "    <tr>\n",
       "      <th>0</th>\n",
       "      <td>spring</td>\n",
       "      <td>Sun</td>\n",
       "      <td>holiday</td>\n",
       "      <td>Mist</td>\n",
       "      <td>14.110847</td>\n",
       "      <td>80.5833</td>\n",
       "      <td>10.749882</td>\n",
       "      <td>985</td>\n",
       "      <td>0</td>\n",
       "      <td>Jan</td>\n",
       "      <td>...</td>\n",
       "      <td>0</td>\n",
       "      <td>0</td>\n",
       "      <td>1</td>\n",
       "      <td>0</td>\n",
       "      <td>0</td>\n",
       "      <td>0</td>\n",
       "      <td>0</td>\n",
       "      <td>0</td>\n",
       "      <td>0</td>\n",
       "      <td>0</td>\n",
       "    </tr>\n",
       "    <tr>\n",
       "      <th>1</th>\n",
       "      <td>spring</td>\n",
       "      <td>Mon</td>\n",
       "      <td>holiday</td>\n",
       "      <td>Mist</td>\n",
       "      <td>14.902598</td>\n",
       "      <td>69.6087</td>\n",
       "      <td>16.652113</td>\n",
       "      <td>801</td>\n",
       "      <td>0</td>\n",
       "      <td>Feb</td>\n",
       "      <td>...</td>\n",
       "      <td>0</td>\n",
       "      <td>1</td>\n",
       "      <td>0</td>\n",
       "      <td>0</td>\n",
       "      <td>0</td>\n",
       "      <td>0</td>\n",
       "      <td>0</td>\n",
       "      <td>0</td>\n",
       "      <td>0</td>\n",
       "      <td>0</td>\n",
       "    </tr>\n",
       "    <tr>\n",
       "      <th>2</th>\n",
       "      <td>spring</td>\n",
       "      <td>Tue</td>\n",
       "      <td>working_day</td>\n",
       "      <td>Clear</td>\n",
       "      <td>8.050924</td>\n",
       "      <td>43.7273</td>\n",
       "      <td>16.636703</td>\n",
       "      <td>1349</td>\n",
       "      <td>0</td>\n",
       "      <td>Mar</td>\n",
       "      <td>...</td>\n",
       "      <td>0</td>\n",
       "      <td>0</td>\n",
       "      <td>0</td>\n",
       "      <td>0</td>\n",
       "      <td>0</td>\n",
       "      <td>1</td>\n",
       "      <td>0</td>\n",
       "      <td>0</td>\n",
       "      <td>0</td>\n",
       "      <td>0</td>\n",
       "    </tr>\n",
       "    <tr>\n",
       "      <th>3</th>\n",
       "      <td>spring</td>\n",
       "      <td>Wed</td>\n",
       "      <td>working_day</td>\n",
       "      <td>Clear</td>\n",
       "      <td>8.200000</td>\n",
       "      <td>59.0435</td>\n",
       "      <td>10.739832</td>\n",
       "      <td>1562</td>\n",
       "      <td>0</td>\n",
       "      <td>Apr</td>\n",
       "      <td>...</td>\n",
       "      <td>0</td>\n",
       "      <td>0</td>\n",
       "      <td>0</td>\n",
       "      <td>0</td>\n",
       "      <td>0</td>\n",
       "      <td>0</td>\n",
       "      <td>0</td>\n",
       "      <td>0</td>\n",
       "      <td>0</td>\n",
       "      <td>0</td>\n",
       "    </tr>\n",
       "    <tr>\n",
       "      <th>4</th>\n",
       "      <td>spring</td>\n",
       "      <td>Thu</td>\n",
       "      <td>working_day</td>\n",
       "      <td>Clear</td>\n",
       "      <td>9.305237</td>\n",
       "      <td>43.6957</td>\n",
       "      <td>12.522300</td>\n",
       "      <td>1600</td>\n",
       "      <td>0</td>\n",
       "      <td>May</td>\n",
       "      <td>...</td>\n",
       "      <td>0</td>\n",
       "      <td>0</td>\n",
       "      <td>0</td>\n",
       "      <td>0</td>\n",
       "      <td>0</td>\n",
       "      <td>0</td>\n",
       "      <td>1</td>\n",
       "      <td>0</td>\n",
       "      <td>0</td>\n",
       "      <td>0</td>\n",
       "    </tr>\n",
       "  </tbody>\n",
       "</table>\n",
       "<p>5 rows × 33 columns</p>\n",
       "</div>"
      ],
      "text/plain": [
       "   season weekday   workingday weathersit       temp      hum  windspeed  \\\n",
       "0  spring     Sun      holiday       Mist  14.110847  80.5833  10.749882   \n",
       "1  spring     Mon      holiday       Mist  14.902598  69.6087  16.652113   \n",
       "2  spring     Tue  working_day      Clear   8.050924  43.7273  16.636703   \n",
       "3  spring     Wed  working_day      Clear   8.200000  59.0435  10.739832   \n",
       "4  spring     Thu  working_day      Clear   9.305237  43.6957  12.522300   \n",
       "\n",
       "    cnt  year month  ...  Dec  Feb  Jan  July  June  Mar  May  Nov  Oct  Sep  \n",
       "0   985     0   Jan  ...    0    0    1     0     0    0    0    0    0    0  \n",
       "1   801     0   Feb  ...    0    1    0     0     0    0    0    0    0    0  \n",
       "2  1349     0   Mar  ...    0    0    0     0     0    1    0    0    0    0  \n",
       "3  1562     0   Apr  ...    0    0    0     0     0    0    0    0    0    0  \n",
       "4  1600     0   May  ...    0    0    0     0     0    0    1    0    0    0  \n",
       "\n",
       "[5 rows x 33 columns]"
      ]
     },
     "execution_count": 36,
     "metadata": {},
     "output_type": "execute_result"
    }
   ],
   "source": [
    "bike_df.head()"
   ]
  },
  {
   "cell_type": "code",
   "execution_count": 37,
   "metadata": {},
   "outputs": [],
   "source": [
    "# Dropping the original categorical variables as we have corresponding dummy variables for them.\n",
    "\n",
    "bike_df = bike_df.drop(['season','workingday','weathersit','weekday','month'],axis=1)"
   ]
  },
  {
   "cell_type": "code",
   "execution_count": 38,
   "metadata": {},
   "outputs": [
    {
     "data": {
      "text/html": [
       "<div>\n",
       "<style scoped>\n",
       "    .dataframe tbody tr th:only-of-type {\n",
       "        vertical-align: middle;\n",
       "    }\n",
       "\n",
       "    .dataframe tbody tr th {\n",
       "        vertical-align: top;\n",
       "    }\n",
       "\n",
       "    .dataframe thead th {\n",
       "        text-align: right;\n",
       "    }\n",
       "</style>\n",
       "<table border=\"1\" class=\"dataframe\">\n",
       "  <thead>\n",
       "    <tr style=\"text-align: right;\">\n",
       "      <th></th>\n",
       "      <th>temp</th>\n",
       "      <th>hum</th>\n",
       "      <th>windspeed</th>\n",
       "      <th>cnt</th>\n",
       "      <th>year</th>\n",
       "      <th>spring</th>\n",
       "      <th>summer</th>\n",
       "      <th>winter</th>\n",
       "      <th>Mon</th>\n",
       "      <th>Sat</th>\n",
       "      <th>...</th>\n",
       "      <th>Dec</th>\n",
       "      <th>Feb</th>\n",
       "      <th>Jan</th>\n",
       "      <th>July</th>\n",
       "      <th>June</th>\n",
       "      <th>Mar</th>\n",
       "      <th>May</th>\n",
       "      <th>Nov</th>\n",
       "      <th>Oct</th>\n",
       "      <th>Sep</th>\n",
       "    </tr>\n",
       "  </thead>\n",
       "  <tbody>\n",
       "    <tr>\n",
       "      <th>0</th>\n",
       "      <td>14.110847</td>\n",
       "      <td>80.5833</td>\n",
       "      <td>10.749882</td>\n",
       "      <td>985</td>\n",
       "      <td>0</td>\n",
       "      <td>1</td>\n",
       "      <td>0</td>\n",
       "      <td>0</td>\n",
       "      <td>0</td>\n",
       "      <td>0</td>\n",
       "      <td>...</td>\n",
       "      <td>0</td>\n",
       "      <td>0</td>\n",
       "      <td>1</td>\n",
       "      <td>0</td>\n",
       "      <td>0</td>\n",
       "      <td>0</td>\n",
       "      <td>0</td>\n",
       "      <td>0</td>\n",
       "      <td>0</td>\n",
       "      <td>0</td>\n",
       "    </tr>\n",
       "    <tr>\n",
       "      <th>1</th>\n",
       "      <td>14.902598</td>\n",
       "      <td>69.6087</td>\n",
       "      <td>16.652113</td>\n",
       "      <td>801</td>\n",
       "      <td>0</td>\n",
       "      <td>1</td>\n",
       "      <td>0</td>\n",
       "      <td>0</td>\n",
       "      <td>1</td>\n",
       "      <td>0</td>\n",
       "      <td>...</td>\n",
       "      <td>0</td>\n",
       "      <td>1</td>\n",
       "      <td>0</td>\n",
       "      <td>0</td>\n",
       "      <td>0</td>\n",
       "      <td>0</td>\n",
       "      <td>0</td>\n",
       "      <td>0</td>\n",
       "      <td>0</td>\n",
       "      <td>0</td>\n",
       "    </tr>\n",
       "    <tr>\n",
       "      <th>2</th>\n",
       "      <td>8.050924</td>\n",
       "      <td>43.7273</td>\n",
       "      <td>16.636703</td>\n",
       "      <td>1349</td>\n",
       "      <td>0</td>\n",
       "      <td>1</td>\n",
       "      <td>0</td>\n",
       "      <td>0</td>\n",
       "      <td>0</td>\n",
       "      <td>0</td>\n",
       "      <td>...</td>\n",
       "      <td>0</td>\n",
       "      <td>0</td>\n",
       "      <td>0</td>\n",
       "      <td>0</td>\n",
       "      <td>0</td>\n",
       "      <td>1</td>\n",
       "      <td>0</td>\n",
       "      <td>0</td>\n",
       "      <td>0</td>\n",
       "      <td>0</td>\n",
       "    </tr>\n",
       "    <tr>\n",
       "      <th>3</th>\n",
       "      <td>8.200000</td>\n",
       "      <td>59.0435</td>\n",
       "      <td>10.739832</td>\n",
       "      <td>1562</td>\n",
       "      <td>0</td>\n",
       "      <td>1</td>\n",
       "      <td>0</td>\n",
       "      <td>0</td>\n",
       "      <td>0</td>\n",
       "      <td>0</td>\n",
       "      <td>...</td>\n",
       "      <td>0</td>\n",
       "      <td>0</td>\n",
       "      <td>0</td>\n",
       "      <td>0</td>\n",
       "      <td>0</td>\n",
       "      <td>0</td>\n",
       "      <td>0</td>\n",
       "      <td>0</td>\n",
       "      <td>0</td>\n",
       "      <td>0</td>\n",
       "    </tr>\n",
       "    <tr>\n",
       "      <th>4</th>\n",
       "      <td>9.305237</td>\n",
       "      <td>43.6957</td>\n",
       "      <td>12.522300</td>\n",
       "      <td>1600</td>\n",
       "      <td>0</td>\n",
       "      <td>1</td>\n",
       "      <td>0</td>\n",
       "      <td>0</td>\n",
       "      <td>0</td>\n",
       "      <td>0</td>\n",
       "      <td>...</td>\n",
       "      <td>0</td>\n",
       "      <td>0</td>\n",
       "      <td>0</td>\n",
       "      <td>0</td>\n",
       "      <td>0</td>\n",
       "      <td>0</td>\n",
       "      <td>1</td>\n",
       "      <td>0</td>\n",
       "      <td>0</td>\n",
       "      <td>0</td>\n",
       "    </tr>\n",
       "  </tbody>\n",
       "</table>\n",
       "<p>5 rows × 28 columns</p>\n",
       "</div>"
      ],
      "text/plain": [
       "        temp      hum  windspeed   cnt  year  spring  summer  winter  Mon  \\\n",
       "0  14.110847  80.5833  10.749882   985     0       1       0       0    0   \n",
       "1  14.902598  69.6087  16.652113   801     0       1       0       0    1   \n",
       "2   8.050924  43.7273  16.636703  1349     0       1       0       0    0   \n",
       "3   8.200000  59.0435  10.739832  1562     0       1       0       0    0   \n",
       "4   9.305237  43.6957  12.522300  1600     0       1       0       0    0   \n",
       "\n",
       "   Sat  ...  Dec  Feb  Jan  July  June  Mar  May  Nov  Oct  Sep  \n",
       "0    0  ...    0    0    1     0     0    0    0    0    0    0  \n",
       "1    0  ...    0    1    0     0     0    0    0    0    0    0  \n",
       "2    0  ...    0    0    0     0     0    1    0    0    0    0  \n",
       "3    0  ...    0    0    0     0     0    0    0    0    0    0  \n",
       "4    0  ...    0    0    0     0     0    0    1    0    0    0  \n",
       "\n",
       "[5 rows x 28 columns]"
      ]
     },
     "execution_count": 38,
     "metadata": {},
     "output_type": "execute_result"
    }
   ],
   "source": [
    "bike_df.head()"
   ]
  },
  {
   "cell_type": "markdown",
   "metadata": {},
   "source": [
    "All the data is now numerical and ready for the modelling stage"
   ]
  },
  {
   "cell_type": "markdown",
   "metadata": {},
   "source": [
    "## 8. Train-Test Split"
   ]
  },
  {
   "cell_type": "code",
   "execution_count": 39,
   "metadata": {},
   "outputs": [],
   "source": [
    "# Splitting the dataset into train and test sets\n",
    "# Import the train_test_split function from apporpriate library and do the splits with train:test data ratio 70:30\n",
    "\n",
    "from sklearn.model_selection import train_test_split\n",
    "train_df, test_df = train_test_split(bike_df, test_size=0.3, random_state=100)\n"
   ]
  },
  {
   "cell_type": "code",
   "execution_count": 40,
   "metadata": {},
   "outputs": [
    {
     "data": {
      "text/plain": [
       "Index(['temp', 'hum', 'windspeed', 'cnt', 'year', 'spring', 'summer', 'winter',\n",
       "       'Mon', 'Sat', 'Sun', 'Thu', 'Tue', 'Wed', 'working_day', 'Light Snow',\n",
       "       'Mist', 'Aug', 'Dec', 'Feb', 'Jan', 'July', 'June', 'Mar', 'May', 'Nov',\n",
       "       'Oct', 'Sep'],\n",
       "      dtype='object')"
      ]
     },
     "execution_count": 40,
     "metadata": {},
     "output_type": "execute_result"
    }
   ],
   "source": [
    "# Check the train and test DataFrames\n",
    "\n",
    "train_df.columns"
   ]
  },
  {
   "cell_type": "code",
   "execution_count": 41,
   "metadata": {},
   "outputs": [
    {
     "data": {
      "text/plain": [
       "(511, 28)"
      ]
     },
     "execution_count": 41,
     "metadata": {},
     "output_type": "execute_result"
    }
   ],
   "source": [
    "train_df.shape"
   ]
  },
  {
   "cell_type": "code",
   "execution_count": 42,
   "metadata": {},
   "outputs": [
    {
     "data": {
      "text/plain": [
       "Index(['temp', 'hum', 'windspeed', 'cnt', 'year', 'spring', 'summer', 'winter',\n",
       "       'Mon', 'Sat', 'Sun', 'Thu', 'Tue', 'Wed', 'working_day', 'Light Snow',\n",
       "       'Mist', 'Aug', 'Dec', 'Feb', 'Jan', 'July', 'June', 'Mar', 'May', 'Nov',\n",
       "       'Oct', 'Sep'],\n",
       "      dtype='object')"
      ]
     },
     "execution_count": 42,
     "metadata": {},
     "output_type": "execute_result"
    }
   ],
   "source": [
    "test_df.columns"
   ]
  },
  {
   "cell_type": "code",
   "execution_count": 43,
   "metadata": {},
   "outputs": [
    {
     "data": {
      "text/plain": [
       "(219, 28)"
      ]
     },
     "execution_count": 43,
     "metadata": {},
     "output_type": "execute_result"
    }
   ],
   "source": [
    "test_df.shape"
   ]
  },
  {
   "cell_type": "markdown",
   "metadata": {},
   "source": [
    "The whole dataset is now split into 511 train observations and 219 test observations (which will be kept separate and unseen)"
   ]
  },
  {
   "cell_type": "markdown",
   "metadata": {},
   "source": [
    "## 9. Scaling"
   ]
  },
  {
   "cell_type": "code",
   "execution_count": 44,
   "metadata": {},
   "outputs": [],
   "source": [
    "# Import the libraries\n",
    "\n",
    "from sklearn.preprocessing import StandardScaler\n",
    "\n",
    "scaler = StandardScaler()"
   ]
  },
  {
   "cell_type": "code",
   "execution_count": 45,
   "metadata": {},
   "outputs": [],
   "source": [
    "# We will scale the numerical variables including the target variable. \n",
    "# The dummy variables are already in the form of 0 and 1\n",
    "\n",
    "numerical_vars = ['temp','hum','windspeed','cnt']\n",
    "\n",
    "train_df[numerical_vars] = scaler.fit_transform(train_df[numerical_vars])"
   ]
  },
  {
   "cell_type": "code",
   "execution_count": 46,
   "metadata": {},
   "outputs": [],
   "source": [
    "# Next we will divide the training DataFrame into X and y variables for model building\n",
    "\n",
    "y_train = train_df[\"cnt\"]\n",
    "X_train = train_df.drop([\"cnt\"], axis=1)"
   ]
  },
  {
   "cell_type": "code",
   "execution_count": 47,
   "metadata": {},
   "outputs": [
    {
     "data": {
      "text/plain": [
       "Index(['temp', 'hum', 'windspeed', 'year', 'spring', 'summer', 'winter', 'Mon',\n",
       "       'Sat', 'Sun', 'Thu', 'Tue', 'Wed', 'working_day', 'Light Snow', 'Mist',\n",
       "       'Aug', 'Dec', 'Feb', 'Jan', 'July', 'June', 'Mar', 'May', 'Nov', 'Oct',\n",
       "       'Sep'],\n",
       "      dtype='object')"
      ]
     },
     "execution_count": 47,
     "metadata": {},
     "output_type": "execute_result"
    }
   ],
   "source": [
    "X_train.columns"
   ]
  },
  {
   "cell_type": "markdown",
   "metadata": {},
   "source": [
    "## 10. Feature Selection"
   ]
  },
  {
   "cell_type": "markdown",
   "metadata": {},
   "source": [
    "I will be using Recursive Feature Elimination method to automatically select few features of interest and then use manual approach of back selection to drop features which are not significant or are multicollinear"
   ]
  },
  {
   "cell_type": "code",
   "execution_count": 48,
   "metadata": {},
   "outputs": [],
   "source": [
    "# Import necessary libraries\n",
    "\n",
    "from sklearn.linear_model import LinearRegression\n",
    "from sklearn.feature_selection import RFE"
   ]
  },
  {
   "cell_type": "code",
   "execution_count": 49,
   "metadata": {},
   "outputs": [],
   "source": [
    "# I will run RFE with target number of features as 10\n",
    "\n",
    "estimator=LinearRegression()\n",
    "selector=RFE(estimator,n_features_to_select=10) \n",
    "selector = selector.fit(X_train, y_train)"
   ]
  },
  {
   "cell_type": "code",
   "execution_count": 50,
   "metadata": {},
   "outputs": [
    {
     "data": {
      "text/plain": [
       "array([ True, False, False,  True,  True, False,  True,  True, False,\n",
       "        True, False, False, False,  True,  True,  True, False, False,\n",
       "       False, False, False, False, False, False, False, False,  True])"
      ]
     },
     "execution_count": 50,
     "metadata": {},
     "output_type": "execute_result"
    }
   ],
   "source": [
    "# Lets see the features that RFE has automatically selected\n",
    "selector.support_"
   ]
  },
  {
   "cell_type": "code",
   "execution_count": 51,
   "metadata": {},
   "outputs": [
    {
     "data": {
      "text/html": [
       "<div>\n",
       "<style scoped>\n",
       "    .dataframe tbody tr th:only-of-type {\n",
       "        vertical-align: middle;\n",
       "    }\n",
       "\n",
       "    .dataframe tbody tr th {\n",
       "        vertical-align: top;\n",
       "    }\n",
       "\n",
       "    .dataframe thead th {\n",
       "        text-align: right;\n",
       "    }\n",
       "</style>\n",
       "<table border=\"1\" class=\"dataframe\">\n",
       "  <thead>\n",
       "    <tr style=\"text-align: right;\">\n",
       "      <th></th>\n",
       "      <th>Bike_DF Columns</th>\n",
       "      <th>Column Selected Indicator</th>\n",
       "      <th>Column Ranking</th>\n",
       "    </tr>\n",
       "  </thead>\n",
       "  <tbody>\n",
       "    <tr>\n",
       "      <th>0</th>\n",
       "      <td>temp</td>\n",
       "      <td>True</td>\n",
       "      <td>1</td>\n",
       "    </tr>\n",
       "    <tr>\n",
       "      <th>1</th>\n",
       "      <td>hum</td>\n",
       "      <td>False</td>\n",
       "      <td>7</td>\n",
       "    </tr>\n",
       "    <tr>\n",
       "      <th>2</th>\n",
       "      <td>windspeed</td>\n",
       "      <td>False</td>\n",
       "      <td>4</td>\n",
       "    </tr>\n",
       "    <tr>\n",
       "      <th>3</th>\n",
       "      <td>year</td>\n",
       "      <td>True</td>\n",
       "      <td>1</td>\n",
       "    </tr>\n",
       "    <tr>\n",
       "      <th>4</th>\n",
       "      <td>spring</td>\n",
       "      <td>True</td>\n",
       "      <td>1</td>\n",
       "    </tr>\n",
       "    <tr>\n",
       "      <th>5</th>\n",
       "      <td>summer</td>\n",
       "      <td>False</td>\n",
       "      <td>3</td>\n",
       "    </tr>\n",
       "    <tr>\n",
       "      <th>6</th>\n",
       "      <td>winter</td>\n",
       "      <td>True</td>\n",
       "      <td>1</td>\n",
       "    </tr>\n",
       "    <tr>\n",
       "      <th>7</th>\n",
       "      <td>Mon</td>\n",
       "      <td>True</td>\n",
       "      <td>1</td>\n",
       "    </tr>\n",
       "    <tr>\n",
       "      <th>8</th>\n",
       "      <td>Sat</td>\n",
       "      <td>False</td>\n",
       "      <td>16</td>\n",
       "    </tr>\n",
       "    <tr>\n",
       "      <th>9</th>\n",
       "      <td>Sun</td>\n",
       "      <td>True</td>\n",
       "      <td>1</td>\n",
       "    </tr>\n",
       "    <tr>\n",
       "      <th>10</th>\n",
       "      <td>Thu</td>\n",
       "      <td>False</td>\n",
       "      <td>18</td>\n",
       "    </tr>\n",
       "    <tr>\n",
       "      <th>11</th>\n",
       "      <td>Tue</td>\n",
       "      <td>False</td>\n",
       "      <td>9</td>\n",
       "    </tr>\n",
       "    <tr>\n",
       "      <th>12</th>\n",
       "      <td>Wed</td>\n",
       "      <td>False</td>\n",
       "      <td>11</td>\n",
       "    </tr>\n",
       "    <tr>\n",
       "      <th>13</th>\n",
       "      <td>working_day</td>\n",
       "      <td>True</td>\n",
       "      <td>1</td>\n",
       "    </tr>\n",
       "    <tr>\n",
       "      <th>14</th>\n",
       "      <td>Light Snow</td>\n",
       "      <td>True</td>\n",
       "      <td>1</td>\n",
       "    </tr>\n",
       "    <tr>\n",
       "      <th>15</th>\n",
       "      <td>Mist</td>\n",
       "      <td>True</td>\n",
       "      <td>1</td>\n",
       "    </tr>\n",
       "    <tr>\n",
       "      <th>16</th>\n",
       "      <td>Aug</td>\n",
       "      <td>False</td>\n",
       "      <td>14</td>\n",
       "    </tr>\n",
       "    <tr>\n",
       "      <th>17</th>\n",
       "      <td>Dec</td>\n",
       "      <td>False</td>\n",
       "      <td>12</td>\n",
       "    </tr>\n",
       "    <tr>\n",
       "      <th>18</th>\n",
       "      <td>Feb</td>\n",
       "      <td>False</td>\n",
       "      <td>15</td>\n",
       "    </tr>\n",
       "    <tr>\n",
       "      <th>19</th>\n",
       "      <td>Jan</td>\n",
       "      <td>False</td>\n",
       "      <td>5</td>\n",
       "    </tr>\n",
       "    <tr>\n",
       "      <th>20</th>\n",
       "      <td>July</td>\n",
       "      <td>False</td>\n",
       "      <td>2</td>\n",
       "    </tr>\n",
       "    <tr>\n",
       "      <th>21</th>\n",
       "      <td>June</td>\n",
       "      <td>False</td>\n",
       "      <td>13</td>\n",
       "    </tr>\n",
       "    <tr>\n",
       "      <th>22</th>\n",
       "      <td>Mar</td>\n",
       "      <td>False</td>\n",
       "      <td>8</td>\n",
       "    </tr>\n",
       "    <tr>\n",
       "      <th>23</th>\n",
       "      <td>May</td>\n",
       "      <td>False</td>\n",
       "      <td>17</td>\n",
       "    </tr>\n",
       "    <tr>\n",
       "      <th>24</th>\n",
       "      <td>Nov</td>\n",
       "      <td>False</td>\n",
       "      <td>10</td>\n",
       "    </tr>\n",
       "    <tr>\n",
       "      <th>25</th>\n",
       "      <td>Oct</td>\n",
       "      <td>False</td>\n",
       "      <td>6</td>\n",
       "    </tr>\n",
       "    <tr>\n",
       "      <th>26</th>\n",
       "      <td>Sep</td>\n",
       "      <td>True</td>\n",
       "      <td>1</td>\n",
       "    </tr>\n",
       "  </tbody>\n",
       "</table>\n",
       "</div>"
      ],
      "text/plain": [
       "   Bike_DF Columns  Column Selected Indicator  Column Ranking\n",
       "0             temp                       True               1\n",
       "1              hum                      False               7\n",
       "2        windspeed                      False               4\n",
       "3             year                       True               1\n",
       "4           spring                       True               1\n",
       "5           summer                      False               3\n",
       "6           winter                       True               1\n",
       "7              Mon                       True               1\n",
       "8              Sat                      False              16\n",
       "9              Sun                       True               1\n",
       "10             Thu                      False              18\n",
       "11             Tue                      False               9\n",
       "12             Wed                      False              11\n",
       "13     working_day                       True               1\n",
       "14      Light Snow                       True               1\n",
       "15            Mist                       True               1\n",
       "16             Aug                      False              14\n",
       "17             Dec                      False              12\n",
       "18             Feb                      False              15\n",
       "19             Jan                      False               5\n",
       "20            July                      False               2\n",
       "21            June                      False              13\n",
       "22             Mar                      False               8\n",
       "23             May                      False              17\n",
       "24             Nov                      False              10\n",
       "25             Oct                      False               6\n",
       "26             Sep                       True               1"
      ]
     },
     "execution_count": 51,
     "metadata": {},
     "output_type": "execute_result"
    }
   ],
   "source": [
    "pd.DataFrame({\"Bike_DF Columns\": X_train.columns, \"Column Selected Indicator\": selector.support_, \"Column Ranking\": selector.ranking_})"
   ]
  },
  {
   "cell_type": "code",
   "execution_count": 52,
   "metadata": {},
   "outputs": [
    {
     "name": "stdout",
     "output_type": "stream",
     "text": [
      "Index(['temp', 'year', 'spring', 'winter', 'Mon', 'Sun', 'working_day',\n",
      "       'Light Snow', 'Mist', 'Sep'],\n",
      "      dtype='object')\n"
     ]
    }
   ],
   "source": [
    "selected_features=X_train.columns[selector.support_]\n",
    "print(selected_features)"
   ]
  },
  {
   "cell_type": "code",
   "execution_count": 53,
   "metadata": {},
   "outputs": [],
   "source": [
    "# Create a new DataFrame with only RFE selected features\n",
    "\n",
    "X_train_selected = X_train[selected_features]"
   ]
  },
  {
   "cell_type": "code",
   "execution_count": 54,
   "metadata": {},
   "outputs": [
    {
     "data": {
      "text/html": [
       "<div>\n",
       "<style scoped>\n",
       "    .dataframe tbody tr th:only-of-type {\n",
       "        vertical-align: middle;\n",
       "    }\n",
       "\n",
       "    .dataframe tbody tr th {\n",
       "        vertical-align: top;\n",
       "    }\n",
       "\n",
       "    .dataframe thead th {\n",
       "        text-align: right;\n",
       "    }\n",
       "</style>\n",
       "<table border=\"1\" class=\"dataframe\">\n",
       "  <thead>\n",
       "    <tr style=\"text-align: right;\">\n",
       "      <th></th>\n",
       "      <th>temp</th>\n",
       "      <th>year</th>\n",
       "      <th>spring</th>\n",
       "      <th>winter</th>\n",
       "      <th>Mon</th>\n",
       "      <th>Sun</th>\n",
       "      <th>working_day</th>\n",
       "      <th>Light Snow</th>\n",
       "      <th>Mist</th>\n",
       "      <th>Sep</th>\n",
       "    </tr>\n",
       "  </thead>\n",
       "  <tbody>\n",
       "    <tr>\n",
       "      <th>653</th>\n",
       "      <td>-0.121991</td>\n",
       "      <td>1</td>\n",
       "      <td>0</td>\n",
       "      <td>1</td>\n",
       "      <td>0</td>\n",
       "      <td>0</td>\n",
       "      <td>1</td>\n",
       "      <td>0</td>\n",
       "      <td>0</td>\n",
       "      <td>0</td>\n",
       "    </tr>\n",
       "    <tr>\n",
       "      <th>576</th>\n",
       "      <td>1.232298</td>\n",
       "      <td>1</td>\n",
       "      <td>0</td>\n",
       "      <td>0</td>\n",
       "      <td>0</td>\n",
       "      <td>0</td>\n",
       "      <td>1</td>\n",
       "      <td>0</td>\n",
       "      <td>0</td>\n",
       "      <td>0</td>\n",
       "    </tr>\n",
       "    <tr>\n",
       "      <th>426</th>\n",
       "      <td>-0.421405</td>\n",
       "      <td>1</td>\n",
       "      <td>1</td>\n",
       "      <td>0</td>\n",
       "      <td>0</td>\n",
       "      <td>1</td>\n",
       "      <td>0</td>\n",
       "      <td>0</td>\n",
       "      <td>1</td>\n",
       "      <td>0</td>\n",
       "    </tr>\n",
       "    <tr>\n",
       "      <th>728</th>\n",
       "      <td>-1.296629</td>\n",
       "      <td>1</td>\n",
       "      <td>1</td>\n",
       "      <td>0</td>\n",
       "      <td>1</td>\n",
       "      <td>0</td>\n",
       "      <td>0</td>\n",
       "      <td>0</td>\n",
       "      <td>0</td>\n",
       "      <td>0</td>\n",
       "    </tr>\n",
       "    <tr>\n",
       "      <th>482</th>\n",
       "      <td>-0.628694</td>\n",
       "      <td>1</td>\n",
       "      <td>0</td>\n",
       "      <td>0</td>\n",
       "      <td>0</td>\n",
       "      <td>1</td>\n",
       "      <td>0</td>\n",
       "      <td>0</td>\n",
       "      <td>1</td>\n",
       "      <td>0</td>\n",
       "    </tr>\n",
       "  </tbody>\n",
       "</table>\n",
       "</div>"
      ],
      "text/plain": [
       "         temp  year  spring  winter  Mon  Sun  working_day  Light Snow  Mist  \\\n",
       "653 -0.121991     1       0       1    0    0            1           0     0   \n",
       "576  1.232298     1       0       0    0    0            1           0     0   \n",
       "426 -0.421405     1       1       0    0    1            0           0     1   \n",
       "728 -1.296629     1       1       0    1    0            0           0     0   \n",
       "482 -0.628694     1       0       0    0    1            0           0     1   \n",
       "\n",
       "     Sep  \n",
       "653    0  \n",
       "576    0  \n",
       "426    0  \n",
       "728    0  \n",
       "482    0  "
      ]
     },
     "execution_count": 54,
     "metadata": {},
     "output_type": "execute_result"
    }
   ],
   "source": [
    "X_train_selected.head()"
   ]
  },
  {
   "cell_type": "markdown",
   "metadata": {},
   "source": [
    "## 11. Manual Feature Selection\n",
    "\n",
    "Now we will use the Ordinary Least Squares Method using the \"statsmodels\" library to evaluate the model and select features manually"
   ]
  },
  {
   "cell_type": "code",
   "execution_count": 55,
   "metadata": {},
   "outputs": [],
   "source": [
    "# Import the statsmodels library\n",
    "\n",
    "import statsmodels.api as sm"
   ]
  },
  {
   "cell_type": "code",
   "execution_count": 56,
   "metadata": {},
   "outputs": [],
   "source": [
    "# Add the constant variable before running OLS\n",
    "\n",
    "X_train_sm1 = sm.add_constant(X_train_selected)"
   ]
  },
  {
   "cell_type": "code",
   "execution_count": 57,
   "metadata": {},
   "outputs": [],
   "source": [
    "# Create a first linear model with all the 10 selected variables\n",
    "\n",
    "linearmodel1 = sm.OLS(y_train, X_train_sm1)"
   ]
  },
  {
   "cell_type": "code",
   "execution_count": 58,
   "metadata": {},
   "outputs": [
    {
     "data": {
      "text/html": [
       "<table class=\"simpletable\">\n",
       "<caption>OLS Regression Results</caption>\n",
       "<tr>\n",
       "  <th>Dep. Variable:</th>           <td>cnt</td>       <th>  R-squared:         </th> <td>   0.820</td> \n",
       "</tr>\n",
       "<tr>\n",
       "  <th>Model:</th>                   <td>OLS</td>       <th>  Adj. R-squared:    </th> <td>   0.817</td> \n",
       "</tr>\n",
       "<tr>\n",
       "  <th>Method:</th>             <td>Least Squares</td>  <th>  F-statistic:       </th> <td>   228.2</td> \n",
       "</tr>\n",
       "<tr>\n",
       "  <th>Date:</th>             <td>Sun, 27 Oct 2024</td> <th>  Prob (F-statistic):</th> <td>3.52e-179</td>\n",
       "</tr>\n",
       "<tr>\n",
       "  <th>Time:</th>                 <td>16:07:03</td>     <th>  Log-Likelihood:    </th> <td> -286.57</td> \n",
       "</tr>\n",
       "<tr>\n",
       "  <th>No. Observations:</th>      <td>   511</td>      <th>  AIC:               </th> <td>   595.1</td> \n",
       "</tr>\n",
       "<tr>\n",
       "  <th>Df Residuals:</th>          <td>   500</td>      <th>  BIC:               </th> <td>   641.7</td> \n",
       "</tr>\n",
       "<tr>\n",
       "  <th>Df Model:</th>              <td>    10</td>      <th>                     </th>     <td> </td>    \n",
       "</tr>\n",
       "<tr>\n",
       "  <th>Covariance Type:</th>      <td>nonrobust</td>    <th>                     </th>     <td> </td>    \n",
       "</tr>\n",
       "</table>\n",
       "<table class=\"simpletable\">\n",
       "<tr>\n",
       "       <td></td>          <th>coef</th>     <th>std err</th>      <th>t</th>      <th>P>|t|</th>  <th>[0.025</th>    <th>0.975]</th>  \n",
       "</tr>\n",
       "<tr>\n",
       "  <th>const</th>       <td>   -0.7086</td> <td>    0.126</td> <td>   -5.636</td> <td> 0.000</td> <td>   -0.956</td> <td>   -0.462</td>\n",
       "</tr>\n",
       "<tr>\n",
       "  <th>temp</th>        <td>    0.4400</td> <td>    0.029</td> <td>   14.923</td> <td> 0.000</td> <td>    0.382</td> <td>    0.498</td>\n",
       "</tr>\n",
       "<tr>\n",
       "  <th>year</th>        <td>    1.0474</td> <td>    0.038</td> <td>   27.358</td> <td> 0.000</td> <td>    0.972</td> <td>    1.123</td>\n",
       "</tr>\n",
       "<tr>\n",
       "  <th>spring</th>      <td>   -0.5278</td> <td>    0.070</td> <td>   -7.527</td> <td> 0.000</td> <td>   -0.666</td> <td>   -0.390</td>\n",
       "</tr>\n",
       "<tr>\n",
       "  <th>winter</th>      <td>    0.2429</td> <td>    0.057</td> <td>    4.257</td> <td> 0.000</td> <td>    0.131</td> <td>    0.355</td>\n",
       "</tr>\n",
       "<tr>\n",
       "  <th>Mon</th>         <td>    0.1980</td> <td>    0.129</td> <td>    1.529</td> <td> 0.127</td> <td>   -0.056</td> <td>    0.452</td>\n",
       "</tr>\n",
       "<tr>\n",
       "  <th>Sun</th>         <td>    0.4526</td> <td>    0.129</td> <td>    3.512</td> <td> 0.000</td> <td>    0.199</td> <td>    0.706</td>\n",
       "</tr>\n",
       "<tr>\n",
       "  <th>working_day</th> <td>    0.4168</td> <td>    0.122</td> <td>    3.415</td> <td> 0.001</td> <td>    0.177</td> <td>    0.656</td>\n",
       "</tr>\n",
       "<tr>\n",
       "  <th>Light Snow</th>  <td>   -1.3209</td> <td>    0.115</td> <td>  -11.517</td> <td> 0.000</td> <td>   -1.546</td> <td>   -1.096</td>\n",
       "</tr>\n",
       "<tr>\n",
       "  <th>Mist</th>        <td>   -0.3464</td> <td>    0.041</td> <td>   -8.508</td> <td> 0.000</td> <td>   -0.426</td> <td>   -0.266</td>\n",
       "</tr>\n",
       "<tr>\n",
       "  <th>Sep</th>         <td>    0.2758</td> <td>    0.072</td> <td>    3.818</td> <td> 0.000</td> <td>    0.134</td> <td>    0.418</td>\n",
       "</tr>\n",
       "</table>\n",
       "<table class=\"simpletable\">\n",
       "<tr>\n",
       "  <th>Omnibus:</th>       <td>79.325</td> <th>  Durbin-Watson:     </th> <td>   2.042</td>\n",
       "</tr>\n",
       "<tr>\n",
       "  <th>Prob(Omnibus):</th> <td> 0.000</td> <th>  Jarque-Bera (JB):  </th> <td> 217.770</td>\n",
       "</tr>\n",
       "<tr>\n",
       "  <th>Skew:</th>          <td>-0.759</td> <th>  Prob(JB):          </th> <td>5.15e-48</td>\n",
       "</tr>\n",
       "<tr>\n",
       "  <th>Kurtosis:</th>      <td> 5.815</td> <th>  Cond. No.          </th> <td>    18.6</td>\n",
       "</tr>\n",
       "</table><br/><br/>Notes:<br/>[1] Standard Errors assume that the covariance matrix of the errors is correctly specified."
      ],
      "text/plain": [
       "<class 'statsmodels.iolib.summary.Summary'>\n",
       "\"\"\"\n",
       "                            OLS Regression Results                            \n",
       "==============================================================================\n",
       "Dep. Variable:                    cnt   R-squared:                       0.820\n",
       "Model:                            OLS   Adj. R-squared:                  0.817\n",
       "Method:                 Least Squares   F-statistic:                     228.2\n",
       "Date:                Sun, 27 Oct 2024   Prob (F-statistic):          3.52e-179\n",
       "Time:                        16:07:03   Log-Likelihood:                -286.57\n",
       "No. Observations:                 511   AIC:                             595.1\n",
       "Df Residuals:                     500   BIC:                             641.7\n",
       "Df Model:                          10                                         \n",
       "Covariance Type:            nonrobust                                         \n",
       "===============================================================================\n",
       "                  coef    std err          t      P>|t|      [0.025      0.975]\n",
       "-------------------------------------------------------------------------------\n",
       "const          -0.7086      0.126     -5.636      0.000      -0.956      -0.462\n",
       "temp            0.4400      0.029     14.923      0.000       0.382       0.498\n",
       "year            1.0474      0.038     27.358      0.000       0.972       1.123\n",
       "spring         -0.5278      0.070     -7.527      0.000      -0.666      -0.390\n",
       "winter          0.2429      0.057      4.257      0.000       0.131       0.355\n",
       "Mon             0.1980      0.129      1.529      0.127      -0.056       0.452\n",
       "Sun             0.4526      0.129      3.512      0.000       0.199       0.706\n",
       "working_day     0.4168      0.122      3.415      0.001       0.177       0.656\n",
       "Light Snow     -1.3209      0.115    -11.517      0.000      -1.546      -1.096\n",
       "Mist           -0.3464      0.041     -8.508      0.000      -0.426      -0.266\n",
       "Sep             0.2758      0.072      3.818      0.000       0.134       0.418\n",
       "==============================================================================\n",
       "Omnibus:                       79.325   Durbin-Watson:                   2.042\n",
       "Prob(Omnibus):                  0.000   Jarque-Bera (JB):              217.770\n",
       "Skew:                          -0.759   Prob(JB):                     5.15e-48\n",
       "Kurtosis:                       5.815   Cond. No.                         18.6\n",
       "==============================================================================\n",
       "\n",
       "Notes:\n",
       "[1] Standard Errors assume that the covariance matrix of the errors is correctly specified.\n",
       "\"\"\""
      ]
     },
     "execution_count": 58,
     "metadata": {},
     "output_type": "execute_result"
    }
   ],
   "source": [
    "# Fit/train the model and check the results\n",
    "\n",
    "res1 = linearmodel1.fit()\n",
    "res1.summary()"
   ]
  },
  {
   "cell_type": "markdown",
   "metadata": {},
   "source": [
    "The p-value of 'Mon' is high which means it is insignificant and needs to be dropped"
   ]
  },
  {
   "cell_type": "code",
   "execution_count": 59,
   "metadata": {},
   "outputs": [],
   "source": [
    "# Drop \"Mon\"\n",
    "\n",
    "X_train_sm2 = X_train_sm1.drop([\"Mon\"], axis=1)"
   ]
  },
  {
   "cell_type": "code",
   "execution_count": 60,
   "metadata": {},
   "outputs": [],
   "source": [
    "# Create the second linear model with the remaining 9 variables after dropping \"Mon\"\n",
    "\n",
    "linearmodel2 = sm.OLS(y_train, X_train_sm2)"
   ]
  },
  {
   "cell_type": "code",
   "execution_count": 61,
   "metadata": {},
   "outputs": [
    {
     "data": {
      "text/html": [
       "<table class=\"simpletable\">\n",
       "<caption>OLS Regression Results</caption>\n",
       "<tr>\n",
       "  <th>Dep. Variable:</th>           <td>cnt</td>       <th>  R-squared:         </th> <td>   0.819</td> \n",
       "</tr>\n",
       "<tr>\n",
       "  <th>Model:</th>                   <td>OLS</td>       <th>  Adj. R-squared:    </th> <td>   0.816</td> \n",
       "</tr>\n",
       "<tr>\n",
       "  <th>Method:</th>             <td>Least Squares</td>  <th>  F-statistic:       </th> <td>   252.6</td> \n",
       "</tr>\n",
       "<tr>\n",
       "  <th>Date:</th>             <td>Sun, 27 Oct 2024</td> <th>  Prob (F-statistic):</th> <td>6.87e-180</td>\n",
       "</tr>\n",
       "<tr>\n",
       "  <th>Time:</th>                 <td>16:07:03</td>     <th>  Log-Likelihood:    </th> <td> -287.77</td> \n",
       "</tr>\n",
       "<tr>\n",
       "  <th>No. Observations:</th>      <td>   511</td>      <th>  AIC:               </th> <td>   595.5</td> \n",
       "</tr>\n",
       "<tr>\n",
       "  <th>Df Residuals:</th>          <td>   501</td>      <th>  BIC:               </th> <td>   637.9</td> \n",
       "</tr>\n",
       "<tr>\n",
       "  <th>Df Model:</th>              <td>     9</td>      <th>                     </th>     <td> </td>    \n",
       "</tr>\n",
       "<tr>\n",
       "  <th>Covariance Type:</th>      <td>nonrobust</td>    <th>                     </th>     <td> </td>    \n",
       "</tr>\n",
       "</table>\n",
       "<table class=\"simpletable\">\n",
       "<tr>\n",
       "       <td></td>          <th>coef</th>     <th>std err</th>      <th>t</th>      <th>P>|t|</th>  <th>[0.025</th>    <th>0.975]</th>  \n",
       "</tr>\n",
       "<tr>\n",
       "  <th>const</th>       <td>   -0.5393</td> <td>    0.060</td> <td>   -9.040</td> <td> 0.000</td> <td>   -0.657</td> <td>   -0.422</td>\n",
       "</tr>\n",
       "<tr>\n",
       "  <th>temp</th>        <td>    0.4402</td> <td>    0.030</td> <td>   14.908</td> <td> 0.000</td> <td>    0.382</td> <td>    0.498</td>\n",
       "</tr>\n",
       "<tr>\n",
       "  <th>year</th>        <td>    1.0481</td> <td>    0.038</td> <td>   27.341</td> <td> 0.000</td> <td>    0.973</td> <td>    1.123</td>\n",
       "</tr>\n",
       "<tr>\n",
       "  <th>spring</th>      <td>   -0.5318</td> <td>    0.070</td> <td>   -7.579</td> <td> 0.000</td> <td>   -0.670</td> <td>   -0.394</td>\n",
       "</tr>\n",
       "<tr>\n",
       "  <th>winter</th>      <td>    0.2392</td> <td>    0.057</td> <td>    4.189</td> <td> 0.000</td> <td>    0.127</td> <td>    0.351</td>\n",
       "</tr>\n",
       "<tr>\n",
       "  <th>Sun</th>         <td>    0.2843</td> <td>    0.067</td> <td>    4.237</td> <td> 0.000</td> <td>    0.152</td> <td>    0.416</td>\n",
       "</tr>\n",
       "<tr>\n",
       "  <th>working_day</th> <td>    0.2480</td> <td>    0.052</td> <td>    4.759</td> <td> 0.000</td> <td>    0.146</td> <td>    0.350</td>\n",
       "</tr>\n",
       "<tr>\n",
       "  <th>Light Snow</th>  <td>   -1.3172</td> <td>    0.115</td> <td>  -11.473</td> <td> 0.000</td> <td>   -1.543</td> <td>   -1.092</td>\n",
       "</tr>\n",
       "<tr>\n",
       "  <th>Mist</th>        <td>   -0.3451</td> <td>    0.041</td> <td>   -8.467</td> <td> 0.000</td> <td>   -0.425</td> <td>   -0.265</td>\n",
       "</tr>\n",
       "<tr>\n",
       "  <th>Sep</th>         <td>    0.2795</td> <td>    0.072</td> <td>    3.868</td> <td> 0.000</td> <td>    0.138</td> <td>    0.422</td>\n",
       "</tr>\n",
       "</table>\n",
       "<table class=\"simpletable\">\n",
       "<tr>\n",
       "  <th>Omnibus:</th>       <td>80.826</td> <th>  Durbin-Watson:     </th> <td>   2.032</td>\n",
       "</tr>\n",
       "<tr>\n",
       "  <th>Prob(Omnibus):</th> <td> 0.000</td> <th>  Jarque-Bera (JB):  </th> <td> 224.577</td>\n",
       "</tr>\n",
       "<tr>\n",
       "  <th>Skew:</th>          <td>-0.769</td> <th>  Prob(JB):          </th> <td>1.71e-49</td>\n",
       "</tr>\n",
       "<tr>\n",
       "  <th>Kurtosis:</th>      <td> 5.860</td> <th>  Cond. No.          </th> <td>    8.79</td>\n",
       "</tr>\n",
       "</table><br/><br/>Notes:<br/>[1] Standard Errors assume that the covariance matrix of the errors is correctly specified."
      ],
      "text/plain": [
       "<class 'statsmodels.iolib.summary.Summary'>\n",
       "\"\"\"\n",
       "                            OLS Regression Results                            \n",
       "==============================================================================\n",
       "Dep. Variable:                    cnt   R-squared:                       0.819\n",
       "Model:                            OLS   Adj. R-squared:                  0.816\n",
       "Method:                 Least Squares   F-statistic:                     252.6\n",
       "Date:                Sun, 27 Oct 2024   Prob (F-statistic):          6.87e-180\n",
       "Time:                        16:07:03   Log-Likelihood:                -287.77\n",
       "No. Observations:                 511   AIC:                             595.5\n",
       "Df Residuals:                     501   BIC:                             637.9\n",
       "Df Model:                           9                                         \n",
       "Covariance Type:            nonrobust                                         \n",
       "===============================================================================\n",
       "                  coef    std err          t      P>|t|      [0.025      0.975]\n",
       "-------------------------------------------------------------------------------\n",
       "const          -0.5393      0.060     -9.040      0.000      -0.657      -0.422\n",
       "temp            0.4402      0.030     14.908      0.000       0.382       0.498\n",
       "year            1.0481      0.038     27.341      0.000       0.973       1.123\n",
       "spring         -0.5318      0.070     -7.579      0.000      -0.670      -0.394\n",
       "winter          0.2392      0.057      4.189      0.000       0.127       0.351\n",
       "Sun             0.2843      0.067      4.237      0.000       0.152       0.416\n",
       "working_day     0.2480      0.052      4.759      0.000       0.146       0.350\n",
       "Light Snow     -1.3172      0.115    -11.473      0.000      -1.543      -1.092\n",
       "Mist           -0.3451      0.041     -8.467      0.000      -0.425      -0.265\n",
       "Sep             0.2795      0.072      3.868      0.000       0.138       0.422\n",
       "==============================================================================\n",
       "Omnibus:                       80.826   Durbin-Watson:                   2.032\n",
       "Prob(Omnibus):                  0.000   Jarque-Bera (JB):              224.577\n",
       "Skew:                          -0.769   Prob(JB):                     1.71e-49\n",
       "Kurtosis:                       5.860   Cond. No.                         8.79\n",
       "==============================================================================\n",
       "\n",
       "Notes:\n",
       "[1] Standard Errors assume that the covariance matrix of the errors is correctly specified.\n",
       "\"\"\""
      ]
     },
     "execution_count": 61,
     "metadata": {},
     "output_type": "execute_result"
    }
   ],
   "source": [
    "# Fit/train the model and check the results\n",
    "\n",
    "res2 = linearmodel2.fit()\n",
    "res2.summary()"
   ]
  },
  {
   "cell_type": "markdown",
   "metadata": {},
   "source": [
    "Now all the variables seem to be significant as the p-values are close to 0 and less than the required value of 0.05"
   ]
  },
  {
   "cell_type": "markdown",
   "metadata": {},
   "source": [
    "Now lets carry out the Variance Inflation factor analysis to check for any remaining multicollinearity"
   ]
  },
  {
   "cell_type": "code",
   "execution_count": 62,
   "metadata": {},
   "outputs": [
    {
     "data": {
      "text/html": [
       "<div>\n",
       "<style scoped>\n",
       "    .dataframe tbody tr th:only-of-type {\n",
       "        vertical-align: middle;\n",
       "    }\n",
       "\n",
       "    .dataframe tbody tr th {\n",
       "        vertical-align: top;\n",
       "    }\n",
       "\n",
       "    .dataframe thead th {\n",
       "        text-align: right;\n",
       "    }\n",
       "</style>\n",
       "<table border=\"1\" class=\"dataframe\">\n",
       "  <thead>\n",
       "    <tr style=\"text-align: right;\">\n",
       "      <th></th>\n",
       "      <th>Feature</th>\n",
       "      <th>VIF</th>\n",
       "    </tr>\n",
       "  </thead>\n",
       "  <tbody>\n",
       "    <tr>\n",
       "      <th>0</th>\n",
       "      <td>const</td>\n",
       "      <td>9.8745</td>\n",
       "    </tr>\n",
       "    <tr>\n",
       "      <th>3</th>\n",
       "      <td>spring</td>\n",
       "      <td>2.5103</td>\n",
       "    </tr>\n",
       "    <tr>\n",
       "      <th>1</th>\n",
       "      <td>temp</td>\n",
       "      <td>2.4189</td>\n",
       "    </tr>\n",
       "    <tr>\n",
       "      <th>4</th>\n",
       "      <td>winter</td>\n",
       "      <td>1.6889</td>\n",
       "    </tr>\n",
       "    <tr>\n",
       "      <th>6</th>\n",
       "      <td>working_day</td>\n",
       "      <td>1.6474</td>\n",
       "    </tr>\n",
       "    <tr>\n",
       "      <th>5</th>\n",
       "      <td>Sun</td>\n",
       "      <td>1.6319</td>\n",
       "    </tr>\n",
       "    <tr>\n",
       "      <th>7</th>\n",
       "      <td>Light Snow</td>\n",
       "      <td>1.0420</td>\n",
       "    </tr>\n",
       "    <tr>\n",
       "      <th>8</th>\n",
       "      <td>Mist</td>\n",
       "      <td>1.0409</td>\n",
       "    </tr>\n",
       "    <tr>\n",
       "      <th>9</th>\n",
       "      <td>Sep</td>\n",
       "      <td>1.0217</td>\n",
       "    </tr>\n",
       "    <tr>\n",
       "      <th>2</th>\n",
       "      <td>year</td>\n",
       "      <td>1.0189</td>\n",
       "    </tr>\n",
       "  </tbody>\n",
       "</table>\n",
       "</div>"
      ],
      "text/plain": [
       "       Feature     VIF\n",
       "0        const  9.8745\n",
       "3       spring  2.5103\n",
       "1         temp  2.4189\n",
       "4       winter  1.6889\n",
       "6  working_day  1.6474\n",
       "5          Sun  1.6319\n",
       "7   Light Snow  1.0420\n",
       "8         Mist  1.0409\n",
       "9          Sep  1.0217\n",
       "2         year  1.0189"
      ]
     },
     "execution_count": 62,
     "metadata": {},
     "output_type": "execute_result"
    }
   ],
   "source": [
    "# Import the VIF library\n",
    "\n",
    "from statsmodels.stats.outliers_influence import variance_inflation_factor\n",
    "\n",
    "vif_data=pd.DataFrame()\n",
    "vif_data[\"Feature\"]=X_train_sm2.columns\n",
    "\n",
    "vif_data[\"VIF\"]=[variance_inflation_factor(X_train_sm2.values,i) \n",
    "                 for i in range(len(X_train_sm2.columns))]\n",
    "vif_data[\"VIF\"] = round(vif_data[\"VIF\"], 4)\n",
    "vif_data = vif_data.sort_values(by=\"VIF\", ascending=False)\n",
    "vif_data"
   ]
  },
  {
   "cell_type": "markdown",
   "metadata": {},
   "source": [
    "All the VIF values are OK (i.e < 5) except for constant. Lets drop constant from the model"
   ]
  },
  {
   "cell_type": "code",
   "execution_count": 63,
   "metadata": {},
   "outputs": [],
   "source": [
    "# Drop \"const\" variable\n",
    "X_train_sm3 = X_train_sm2.drop([\"const\"], axis=1)"
   ]
  },
  {
   "cell_type": "code",
   "execution_count": 64,
   "metadata": {},
   "outputs": [],
   "source": [
    "# Create the thrid linear model with the remaining 8 variables after dropping \"const\"\n",
    "\n",
    "linearmodel3 = sm.OLS(y_train, X_train_sm3)"
   ]
  },
  {
   "cell_type": "code",
   "execution_count": 65,
   "metadata": {},
   "outputs": [
    {
     "data": {
      "text/html": [
       "<table class=\"simpletable\">\n",
       "<caption>OLS Regression Results</caption>\n",
       "<tr>\n",
       "  <th>Dep. Variable:</th>           <td>cnt</td>       <th>  R-squared (uncentered):</th>      <td>   0.790</td> \n",
       "</tr>\n",
       "<tr>\n",
       "  <th>Model:</th>                   <td>OLS</td>       <th>  Adj. R-squared (uncentered):</th> <td>   0.786</td> \n",
       "</tr>\n",
       "<tr>\n",
       "  <th>Method:</th>             <td>Least Squares</td>  <th>  F-statistic:       </th>          <td>   209.8</td> \n",
       "</tr>\n",
       "<tr>\n",
       "  <th>Date:</th>             <td>Sun, 27 Oct 2024</td> <th>  Prob (F-statistic):</th>          <td>7.68e-164</td>\n",
       "</tr>\n",
       "<tr>\n",
       "  <th>Time:</th>                 <td>16:07:03</td>     <th>  Log-Likelihood:    </th>          <td> -326.37</td> \n",
       "</tr>\n",
       "<tr>\n",
       "  <th>No. Observations:</th>      <td>   511</td>      <th>  AIC:               </th>          <td>   670.7</td> \n",
       "</tr>\n",
       "<tr>\n",
       "  <th>Df Residuals:</th>          <td>   502</td>      <th>  BIC:               </th>          <td>   708.9</td> \n",
       "</tr>\n",
       "<tr>\n",
       "  <th>Df Model:</th>              <td>     9</td>      <th>                     </th>              <td> </td>    \n",
       "</tr>\n",
       "<tr>\n",
       "  <th>Covariance Type:</th>      <td>nonrobust</td>    <th>                     </th>              <td> </td>    \n",
       "</tr>\n",
       "</table>\n",
       "<table class=\"simpletable\">\n",
       "<tr>\n",
       "       <td></td>          <th>coef</th>     <th>std err</th>      <th>t</th>      <th>P>|t|</th>  <th>[0.025</th>    <th>0.975]</th>  \n",
       "</tr>\n",
       "<tr>\n",
       "  <th>temp</th>        <td>    0.3510</td> <td>    0.030</td> <td>   11.705</td> <td> 0.000</td> <td>    0.292</td> <td>    0.410</td>\n",
       "</tr>\n",
       "<tr>\n",
       "  <th>year</th>        <td>    0.9418</td> <td>    0.039</td> <td>   23.958</td> <td> 0.000</td> <td>    0.865</td> <td>    1.019</td>\n",
       "</tr>\n",
       "<tr>\n",
       "  <th>spring</th>      <td>   -0.8188</td> <td>    0.067</td> <td>  -12.145</td> <td> 0.000</td> <td>   -0.951</td> <td>   -0.686</td>\n",
       "</tr>\n",
       "<tr>\n",
       "  <th>winter</th>      <td>    0.0121</td> <td>    0.055</td> <td>    0.220</td> <td> 0.826</td> <td>   -0.096</td> <td>    0.121</td>\n",
       "</tr>\n",
       "<tr>\n",
       "  <th>Sun</th>         <td>   -0.0449</td> <td>    0.061</td> <td>   -0.739</td> <td> 0.460</td> <td>   -0.164</td> <td>    0.074</td>\n",
       "</tr>\n",
       "<tr>\n",
       "  <th>working_day</th> <td>   -0.0796</td> <td>    0.040</td> <td>   -1.972</td> <td> 0.049</td> <td>   -0.159</td> <td>   -0.000</td>\n",
       "</tr>\n",
       "<tr>\n",
       "  <th>Light Snow</th>  <td>   -1.3743</td> <td>    0.124</td> <td>  -11.127</td> <td> 0.000</td> <td>   -1.617</td> <td>   -1.132</td>\n",
       "</tr>\n",
       "<tr>\n",
       "  <th>Mist</th>        <td>   -0.4240</td> <td>    0.043</td> <td>   -9.883</td> <td> 0.000</td> <td>   -0.508</td> <td>   -0.340</td>\n",
       "</tr>\n",
       "<tr>\n",
       "  <th>Sep</th>         <td>    0.2398</td> <td>    0.078</td> <td>    3.085</td> <td> 0.002</td> <td>    0.087</td> <td>    0.393</td>\n",
       "</tr>\n",
       "</table>\n",
       "<table class=\"simpletable\">\n",
       "<tr>\n",
       "  <th>Omnibus:</th>       <td>47.219</td> <th>  Durbin-Watson:     </th> <td>   2.016</td>\n",
       "</tr>\n",
       "<tr>\n",
       "  <th>Prob(Omnibus):</th> <td> 0.000</td> <th>  Jarque-Bera (JB):  </th> <td> 115.161</td>\n",
       "</tr>\n",
       "<tr>\n",
       "  <th>Skew:</th>          <td>-0.481</td> <th>  Prob(JB):          </th> <td>9.84e-26</td>\n",
       "</tr>\n",
       "<tr>\n",
       "  <th>Kurtosis:</th>      <td> 5.117</td> <th>  Cond. No.          </th> <td>    6.66</td>\n",
       "</tr>\n",
       "</table><br/><br/>Notes:<br/>[1] R² is computed without centering (uncentered) since the model does not contain a constant.<br/>[2] Standard Errors assume that the covariance matrix of the errors is correctly specified."
      ],
      "text/plain": [
       "<class 'statsmodels.iolib.summary.Summary'>\n",
       "\"\"\"\n",
       "                                 OLS Regression Results                                \n",
       "=======================================================================================\n",
       "Dep. Variable:                    cnt   R-squared (uncentered):                   0.790\n",
       "Model:                            OLS   Adj. R-squared (uncentered):              0.786\n",
       "Method:                 Least Squares   F-statistic:                              209.8\n",
       "Date:                Sun, 27 Oct 2024   Prob (F-statistic):                   7.68e-164\n",
       "Time:                        16:07:03   Log-Likelihood:                         -326.37\n",
       "No. Observations:                 511   AIC:                                      670.7\n",
       "Df Residuals:                     502   BIC:                                      708.9\n",
       "Df Model:                           9                                                  \n",
       "Covariance Type:            nonrobust                                                  \n",
       "===============================================================================\n",
       "                  coef    std err          t      P>|t|      [0.025      0.975]\n",
       "-------------------------------------------------------------------------------\n",
       "temp            0.3510      0.030     11.705      0.000       0.292       0.410\n",
       "year            0.9418      0.039     23.958      0.000       0.865       1.019\n",
       "spring         -0.8188      0.067    -12.145      0.000      -0.951      -0.686\n",
       "winter          0.0121      0.055      0.220      0.826      -0.096       0.121\n",
       "Sun            -0.0449      0.061     -0.739      0.460      -0.164       0.074\n",
       "working_day    -0.0796      0.040     -1.972      0.049      -0.159      -0.000\n",
       "Light Snow     -1.3743      0.124    -11.127      0.000      -1.617      -1.132\n",
       "Mist           -0.4240      0.043     -9.883      0.000      -0.508      -0.340\n",
       "Sep             0.2398      0.078      3.085      0.002       0.087       0.393\n",
       "==============================================================================\n",
       "Omnibus:                       47.219   Durbin-Watson:                   2.016\n",
       "Prob(Omnibus):                  0.000   Jarque-Bera (JB):              115.161\n",
       "Skew:                          -0.481   Prob(JB):                     9.84e-26\n",
       "Kurtosis:                       5.117   Cond. No.                         6.66\n",
       "==============================================================================\n",
       "\n",
       "Notes:\n",
       "[1] R² is computed without centering (uncentered) since the model does not contain a constant.\n",
       "[2] Standard Errors assume that the covariance matrix of the errors is correctly specified.\n",
       "\"\"\""
      ]
     },
     "execution_count": 65,
     "metadata": {},
     "output_type": "execute_result"
    }
   ],
   "source": [
    "# Fit/train the model and check the results\n",
    "\n",
    "res3 = linearmodel3.fit()\n",
    "res3.summary()"
   ]
  },
  {
   "cell_type": "code",
   "execution_count": 66,
   "metadata": {},
   "outputs": [
    {
     "data": {
      "text/html": [
       "<div>\n",
       "<style scoped>\n",
       "    .dataframe tbody tr th:only-of-type {\n",
       "        vertical-align: middle;\n",
       "    }\n",
       "\n",
       "    .dataframe tbody tr th {\n",
       "        vertical-align: top;\n",
       "    }\n",
       "\n",
       "    .dataframe thead th {\n",
       "        text-align: right;\n",
       "    }\n",
       "</style>\n",
       "<table border=\"1\" class=\"dataframe\">\n",
       "  <thead>\n",
       "    <tr style=\"text-align: right;\">\n",
       "      <th></th>\n",
       "      <th>Feature</th>\n",
       "      <th>VIF</th>\n",
       "    </tr>\n",
       "  </thead>\n",
       "  <tbody>\n",
       "    <tr>\n",
       "      <th>2</th>\n",
       "      <td>spring</td>\n",
       "      <td>2.6360</td>\n",
       "    </tr>\n",
       "    <tr>\n",
       "      <th>5</th>\n",
       "      <td>working_day</td>\n",
       "      <td>2.6356</td>\n",
       "    </tr>\n",
       "    <tr>\n",
       "      <th>0</th>\n",
       "      <td>temp</td>\n",
       "      <td>2.1487</td>\n",
       "    </tr>\n",
       "    <tr>\n",
       "      <th>1</th>\n",
       "      <td>year</td>\n",
       "      <td>1.8791</td>\n",
       "    </tr>\n",
       "    <tr>\n",
       "      <th>3</th>\n",
       "      <td>winter</td>\n",
       "      <td>1.8126</td>\n",
       "    </tr>\n",
       "    <tr>\n",
       "      <th>7</th>\n",
       "      <td>Mist</td>\n",
       "      <td>1.5151</td>\n",
       "    </tr>\n",
       "    <tr>\n",
       "      <th>4</th>\n",
       "      <td>Sun</td>\n",
       "      <td>1.3618</td>\n",
       "    </tr>\n",
       "    <tr>\n",
       "      <th>8</th>\n",
       "      <td>Sep</td>\n",
       "      <td>1.1020</td>\n",
       "    </tr>\n",
       "    <tr>\n",
       "      <th>6</th>\n",
       "      <td>Light Snow</td>\n",
       "      <td>1.0703</td>\n",
       "    </tr>\n",
       "  </tbody>\n",
       "</table>\n",
       "</div>"
      ],
      "text/plain": [
       "       Feature     VIF\n",
       "2       spring  2.6360\n",
       "5  working_day  2.6356\n",
       "0         temp  2.1487\n",
       "1         year  1.8791\n",
       "3       winter  1.8126\n",
       "7         Mist  1.5151\n",
       "4          Sun  1.3618\n",
       "8          Sep  1.1020\n",
       "6   Light Snow  1.0703"
      ]
     },
     "execution_count": 66,
     "metadata": {},
     "output_type": "execute_result"
    }
   ],
   "source": [
    "# Check VIF again\n",
    "\n",
    "vif_data=pd.DataFrame()\n",
    "vif_data[\"Feature\"]=X_train_sm3.columns\n",
    "\n",
    "vif_data[\"VIF\"]=[variance_inflation_factor(X_train_sm3.values,i) \n",
    "                 for i in range(len(X_train_sm3.columns))]\n",
    "vif_data[\"VIF\"] = round(vif_data[\"VIF\"], 4)\n",
    "vif_data = vif_data.sort_values(by=\"VIF\", ascending=False)\n",
    "vif_data"
   ]
  },
  {
   "cell_type": "markdown",
   "metadata": {},
   "source": [
    "The VIF values are all less than 5.\n",
    "\n",
    "Now we have checked for significance and multicollinearity and all remaiming variables are significant"
   ]
  },
  {
   "cell_type": "markdown",
   "metadata": {},
   "source": [
    "## 12. Residual analysis of the train data"
   ]
  },
  {
   "cell_type": "code",
   "execution_count": 67,
   "metadata": {},
   "outputs": [],
   "source": [
    "# Lets get the predicted value of dependent variable in train dataset and analyze error terms\n",
    "\n",
    "y_train_pred = res3.predict(X_train_sm3)"
   ]
  },
  {
   "cell_type": "code",
   "execution_count": 68,
   "metadata": {},
   "outputs": [
    {
     "data": {
      "image/png": "[encoded data removed]",
      "text/plain": [
       "<Figure size 720x432 with 1 Axes>"
      ]
     },
     "metadata": {
      "needs_background": "light"
     },
     "output_type": "display_data"
    }
   ],
   "source": [
    "# Lets plot the error term\n",
    "\n",
    "plt.figure(figsize=[10,6])\n",
    "sns.distplot((y_train - y_train_pred), bins=20)\n",
    "plt.title(\"Error terms Distribution\", fontsize=20)\n",
    "plt.xlabel(\"Predicted Dependent Variable(y_train) - Original Dependent Variable(y_train)\", fontsize=15)\n",
    "plt.show()"
   ]
  },
  {
   "cell_type": "code",
   "execution_count": 69,
   "metadata": {},
   "outputs": [
    {
     "data": {
      "image/png": "[encoded data removed]",
      "text/plain": [
       "<Figure size 720x432 with 1 Axes>"
      ]
     },
     "metadata": {
      "needs_background": "light"
     },
     "output_type": "display_data"
    }
   ],
   "source": [
    "# Check in case of any visible patterns in error terms or if there is constant variance (homoscedasticity)\n",
    "\n",
    "plt.figure(figsize=(10, 6))\n",
    "plt.scatter(y_train_pred, (y_train-y_train_pred), alpha=0.5)\n",
    "plt.axhline(y=0, color='r', linestyle='--')\n",
    "plt.title(\"Residuals vs Predicted Values Distribution\", fontsize=20)\n",
    "plt.xlabel(\"Predicted Values\", fontsize=15)\n",
    "plt.ylabel(\"Residuals\", fontsize=15)\n",
    "plt.show()"
   ]
  },
  {
   "cell_type": "markdown",
   "metadata": {},
   "source": [
    "#### Analysis\n",
    "\n",
    "1. The R2 score we received vs the adjusted R2 are 0.79 and 0.786 which are pretty close. This signifies there are no more independent variables which are redundant and adding penalty to the score. The model is stable\n",
    "\n",
    "2. The Plot of Error terms is a Normal Distribution with a mean of 0\n",
    "\n",
    "3. There’s no clear pattern in the scatter plot of residuals vs predicted values, indicating homoscedasticity (constant variance) across predicted values.\n"
   ]
  },
  {
   "cell_type": "markdown",
   "metadata": {},
   "source": [
    " ## 13. Making Predictions using Final Model"
   ]
  },
  {
   "cell_type": "code",
   "execution_count": 70,
   "metadata": {},
   "outputs": [],
   "source": [
    "# Transform the test dataset\n",
    "\n",
    "numerical_vars = ['temp','hum','windspeed','cnt']\n",
    "\n",
    "test_df[numerical_vars] = scaler.transform(test_df[numerical_vars])"
   ]
  },
  {
   "cell_type": "code",
   "execution_count": 71,
   "metadata": {},
   "outputs": [],
   "source": [
    "# Split the data in X_test and y_test\n",
    "\n",
    "y_test = test_df[\"cnt\"]\n",
    "X_test = test_df.drop([\"cnt\"], axis=1)"
   ]
  },
  {
   "cell_type": "code",
   "execution_count": 72,
   "metadata": {},
   "outputs": [
    {
     "data": {
      "text/plain": [
       "Index(['temp', 'year', 'spring', 'winter', 'Sun', 'working_day', 'Light Snow',\n",
       "       'Mist', 'Sep'],\n",
       "      dtype='object')"
      ]
     },
     "execution_count": 72,
     "metadata": {},
     "output_type": "execute_result"
    }
   ],
   "source": [
    "# Lets check the final features that were used in final model. We will use the same for test set.\n",
    "X_train_sm3.columns"
   ]
  },
  {
   "cell_type": "code",
   "execution_count": 73,
   "metadata": {},
   "outputs": [],
   "source": [
    "# Filter the X_test dataset with columns that were used for final model\n",
    "\n",
    "X_test_filtered = X_test[X_train_sm3.columns]"
   ]
  },
  {
   "cell_type": "code",
   "execution_count": 74,
   "metadata": {},
   "outputs": [],
   "source": [
    "# Make the predictions\n",
    "y_test_pred = res3.predict(X_test_filtered)"
   ]
  },
  {
   "cell_type": "markdown",
   "metadata": {},
   "source": [
    " ## 14. Model Evaluation"
   ]
  },
  {
   "cell_type": "code",
   "execution_count": 75,
   "metadata": {},
   "outputs": [
    {
     "data": {
      "image/png": "[encoded data removed]",
      "text/plain": [
       "<Figure size 720x432 with 1 Axes>"
      ]
     },
     "metadata": {
      "needs_background": "light"
     },
     "output_type": "display_data"
    }
   ],
   "source": [
    "# Lets check the distribution between actual and predicted values of bike demand\n",
    "\n",
    "plt.figure(figsize=[10,6])\n",
    "sns.regplot(y_test, y_test_pred)\n",
    "plt.xlabel(\"Actual Demand\", fontsize=15)\n",
    "plt.ylabel(\"Predicted Demand\", fontsize=15)\n",
    "plt.title(\"Actual vs Predicted Demand Distribution\", fontsize=20)\n",
    "plt.show()"
   ]
  },
  {
   "cell_type": "code",
   "execution_count": 76,
   "metadata": {},
   "outputs": [
    {
     "name": "stdout",
     "output_type": "stream",
     "text": [
      "Train Score:\n",
      " 0.79\n",
      "Test Score:\n",
      " 0.786\n"
     ]
    }
   ],
   "source": [
    "# Lets check the R2 scores of train and test\n",
    "\n",
    "from sklearn.metrics import r2_score\n",
    "\n",
    "r2_train = r2_score(y_train, y_train_pred)\n",
    "r2_test = r2_score(y_test, y_test_pred)\n",
    "print(\"Train Score:\\n\",round(r2_train,3))\n",
    "print(\"Test Score:\\n\",round(r2_test,3))"
   ]
  },
  {
   "cell_type": "markdown",
   "metadata": {},
   "source": [
    "**Note**: The prediction on the unseen test data has been run only once and the conclusions below adhere to that"
   ]
  },
  {
   "cell_type": "markdown",
   "metadata": {},
   "source": [
    "## 15. Conclusion"
   ]
  },
  {
   "cell_type": "markdown",
   "metadata": {},
   "source": [
    "Lets reflect on the model prediction performance. \n",
    "- The train and test R2 scores are quite close which means there is no overfitting/underfitting in the model and it is quite stable\n",
    "- The error terms were normally distributed so the p-values computed for the predictor variable coefficients are reliable.\n",
    "- The model is not very complex and the final one contains 9 features shortlisted after Recursive Feature Elimination (RFE) automated process and manual feature selection from 28 features (post dummy variables and scaling)"
   ]
  },
  {
   "cell_type": "markdown",
   "metadata": {},
   "source": [
    "Now the linear modelling has been concluded. Lets check if the business objective has been achieved.\n",
    "\n",
    "1. Recommendation on Significant variables: These variables are following\n",
    " - **Spring Season:** This variable has a coefficient/weightage of -0.8188. The bike demand will significantly fall in spring and the company needs to invest in some marketing strategies to attract more people during spring\n",
    " - **Temperature:** This variable has a coefficient/weightage of 0.3510. In general as temperature gets warmer, demand rises This could be also observed as winter season or Light Snow (Weathersit) drives demands down\n",
    " - **Year:** This variable has a coefficient/weightage pf 0.9418. Year on year demand is increasing Covid-19 may have temporariliy stiffled demand but as the pandemic is gone now (or is less serious) the demand is expected to rise again. People are also becoming more climate conscious and prefer bikes for shorter transits and for jealth benefits\n",
    " - **Weather Conditions:** Weathersit variables like \"Light Snow\" or \"Mist\" drives demands down. Summer and Fall drives demands up"
   ]
  },
  {
   "cell_type": "code",
   "execution_count": null,
   "metadata": {},
   "outputs": [],
   "source": []
  }
 ],
 "metadata": {
  "kernelspec": {
   "display_name": "Python 3",
   "language": "python",
   "name": "python3"
  },
  "language_info": {
   "codemirror_mode": {
    "name": "ipython",
    "version": 3
   },
   "file_extension": ".py",
   "mimetype": "text/x-python",
   "name": "python",
   "nbconvert_exporter": "python",
   "pygments_lexer": "ipython3",
   "version": "3.8.5"
  }
 },
 "nbformat": 4,
 "nbformat_minor": 4
}
